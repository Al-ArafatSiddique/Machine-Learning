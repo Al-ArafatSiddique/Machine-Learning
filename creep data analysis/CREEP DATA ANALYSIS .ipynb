{
 "cells": [
  {
   "cell_type": "markdown",
   "metadata": {},
   "source": [
    "   # Creep Data Analysis "
   ]
  },
  {
   "cell_type": "markdown",
   "metadata": {},
   "source": [
    "## Importing creep data as comma separated value(csv) file"
   ]
  },
  {
   "cell_type": "code",
   "execution_count": 138,
   "metadata": {},
   "outputs": [],
   "source": [
    "import numpy as np\n",
    "import pandas as pd\n",
    "creep=pd.read_csv('creepdata.csv')"
   ]
  },
  {
   "cell_type": "code",
   "execution_count": 168,
   "metadata": {
    "scrolled": true
   },
   "outputs": [
    {
     "name": "stdout",
     "output_type": "stream",
     "text": [
      "   Temperature  Load  Time Period(Hour)  Time Period(Year)      CEEQ Category\n",
      "0          500   110               0.00           0.000000  0.000000        A\n",
      "1          500   110               0.05           0.000006  0.000000        A\n",
      "2          500   110               0.10           0.000011  0.000015        A\n",
      "3          500   110               0.15           0.000017  0.000029        A\n",
      "4          500   110               0.20           0.000023  0.000044        A\n"
     ]
    }
   ],
   "source": [
    "print(creep.head())"
   ]
  },
  {
   "cell_type": "markdown",
   "metadata": {},
   "source": [
    "# Analysing the Data Set "
   ]
  },
  {
   "cell_type": "code",
   "execution_count": 140,
   "metadata": {},
   "outputs": [
    {
     "data": {
      "text/plain": [
       "(1240, 6)"
      ]
     },
     "execution_count": 140,
     "metadata": {},
     "output_type": "execute_result"
    }
   ],
   "source": [
    "creep.shape"
   ]
  },
  {
   "cell_type": "markdown",
   "metadata": {},
   "source": [
    "### *The creep data set has 1240 rows and 6 columns*"
   ]
  },
  {
   "cell_type": "code",
   "execution_count": 141,
   "metadata": {},
   "outputs": [
    {
     "data": {
      "text/plain": [
       "Temperature          0\n",
       "Load                 0\n",
       "Time Period(Hour)    0\n",
       "Time Period(Year)    0\n",
       "CEEQ                 0\n",
       "Category             0\n",
       "dtype: int64"
      ]
     },
     "execution_count": 141,
     "metadata": {},
     "output_type": "execute_result"
    }
   ],
   "source": [
    "creep.isnull().sum()"
   ]
  },
  {
   "cell_type": "markdown",
   "metadata": {},
   "source": [
    "### *There is no missing  values in the data set*"
   ]
  },
  {
   "cell_type": "code",
   "execution_count": 143,
   "metadata": {
    "scrolled": false
   },
   "outputs": [
    {
     "data": {
      "text/plain": [
       "count     1240\n",
       "unique       6\n",
       "top          A\n",
       "freq       912\n",
       "Name: Category, dtype: object"
      ]
     },
     "execution_count": 143,
     "metadata": {},
     "output_type": "execute_result"
    }
   ],
   "source": [
    "creep.Category.describe()"
   ]
  },
  {
   "cell_type": "markdown",
   "metadata": {},
   "source": [
    "The highest simulated creep value is 1.21 mm for the node shows the maximum creep value at a temperature of 500 degree Celcius, 110 MPa load when the simulation is run for 262800 hours.   \n",
    "\n",
    "The whole data set is divided into 6 categories according to creep values. \n",
    "CEEQ(mm) Category\n",
    "0.0-.2        A\n",
    ".2-.4         B\n",
    ".4-.6         C\n",
    ".6-.8         D\n",
    ".8-1.0        E\n",
    ">1.0          F"
   ]
  },
  {
   "cell_type": "code",
   "execution_count": 144,
   "metadata": {},
   "outputs": [
    {
     "data": {
      "text/plain": [
       "A    912\n",
       "B    136\n",
       "C     96\n",
       "D     58\n",
       "E     32\n",
       "F      6\n",
       "Name: Category, dtype: int64"
      ]
     },
     "execution_count": 144,
     "metadata": {},
     "output_type": "execute_result"
    }
   ],
   "source": [
    "creep.Category.value_counts()"
   ]
  },
  {
   "cell_type": "code",
   "execution_count": 145,
   "metadata": {},
   "outputs": [
    {
     "data": {
      "text/html": [
       "<div>\n",
       "<style scoped>\n",
       "    .dataframe tbody tr th:only-of-type {\n",
       "        vertical-align: middle;\n",
       "    }\n",
       "\n",
       "    .dataframe tbody tr th {\n",
       "        vertical-align: top;\n",
       "    }\n",
       "\n",
       "    .dataframe thead th {\n",
       "        text-align: right;\n",
       "    }\n",
       "</style>\n",
       "<table border=\"1\" class=\"dataframe\">\n",
       "  <thead>\n",
       "    <tr style=\"text-align: right;\">\n",
       "      <th></th>\n",
       "      <th>Temperature</th>\n",
       "      <th>Load</th>\n",
       "      <th>Time Period(Hour)</th>\n",
       "      <th>Time Period(Year)</th>\n",
       "      <th>CEEQ</th>\n",
       "      <th>Category</th>\n",
       "    </tr>\n",
       "  </thead>\n",
       "  <tbody>\n",
       "    <tr>\n",
       "      <th>52</th>\n",
       "      <td>500</td>\n",
       "      <td>110</td>\n",
       "      <td>262800.0</td>\n",
       "      <td>30.000000</td>\n",
       "      <td>1.210420</td>\n",
       "      <td>F</td>\n",
       "    </tr>\n",
       "    <tr>\n",
       "      <th>51</th>\n",
       "      <td>500</td>\n",
       "      <td>110</td>\n",
       "      <td>246570.0</td>\n",
       "      <td>28.147260</td>\n",
       "      <td>1.191960</td>\n",
       "      <td>F</td>\n",
       "    </tr>\n",
       "    <tr>\n",
       "      <th>50</th>\n",
       "      <td>500</td>\n",
       "      <td>110</td>\n",
       "      <td>214567.0</td>\n",
       "      <td>24.493950</td>\n",
       "      <td>1.153700</td>\n",
       "      <td>F</td>\n",
       "    </tr>\n",
       "    <tr>\n",
       "      <th>49</th>\n",
       "      <td>500</td>\n",
       "      <td>110</td>\n",
       "      <td>182565.0</td>\n",
       "      <td>20.840753</td>\n",
       "      <td>1.111160</td>\n",
       "      <td>F</td>\n",
       "    </tr>\n",
       "    <tr>\n",
       "      <th>48</th>\n",
       "      <td>500</td>\n",
       "      <td>110</td>\n",
       "      <td>150562.0</td>\n",
       "      <td>17.187443</td>\n",
       "      <td>1.063000</td>\n",
       "      <td>F</td>\n",
       "    </tr>\n",
       "    <tr>\n",
       "      <th>47</th>\n",
       "      <td>500</td>\n",
       "      <td>110</td>\n",
       "      <td>127900.0</td>\n",
       "      <td>14.600457</td>\n",
       "      <td>1.023460</td>\n",
       "      <td>F</td>\n",
       "    </tr>\n",
       "    <tr>\n",
       "      <th>314</th>\n",
       "      <td>400</td>\n",
       "      <td>110</td>\n",
       "      <td>262800.0</td>\n",
       "      <td>30.000000</td>\n",
       "      <td>0.995481</td>\n",
       "      <td>E</td>\n",
       "    </tr>\n",
       "    <tr>\n",
       "      <th>46</th>\n",
       "      <td>500</td>\n",
       "      <td>110</td>\n",
       "      <td>112793.0</td>\n",
       "      <td>12.875913</td>\n",
       "      <td>0.993444</td>\n",
       "      <td>E</td>\n",
       "    </tr>\n",
       "    <tr>\n",
       "      <th>565</th>\n",
       "      <td>300</td>\n",
       "      <td>110</td>\n",
       "      <td>262800.0</td>\n",
       "      <td>30.000000</td>\n",
       "      <td>0.977253</td>\n",
       "      <td>E</td>\n",
       "    </tr>\n",
       "    <tr>\n",
       "      <th>313</th>\n",
       "      <td>400</td>\n",
       "      <td>110</td>\n",
       "      <td>239107.0</td>\n",
       "      <td>27.295320</td>\n",
       "      <td>0.973326</td>\n",
       "      <td>E</td>\n",
       "    </tr>\n",
       "  </tbody>\n",
       "</table>\n",
       "</div>"
      ],
      "text/plain": [
       "     Temperature  Load  Time Period(Hour)  Time Period(Year)      CEEQ  \\\n",
       "52           500   110           262800.0          30.000000  1.210420   \n",
       "51           500   110           246570.0          28.147260  1.191960   \n",
       "50           500   110           214567.0          24.493950  1.153700   \n",
       "49           500   110           182565.0          20.840753  1.111160   \n",
       "48           500   110           150562.0          17.187443  1.063000   \n",
       "47           500   110           127900.0          14.600457  1.023460   \n",
       "314          400   110           262800.0          30.000000  0.995481   \n",
       "46           500   110           112793.0          12.875913  0.993444   \n",
       "565          300   110           262800.0          30.000000  0.977253   \n",
       "313          400   110           239107.0          27.295320  0.973326   \n",
       "\n",
       "    Category  \n",
       "52         F  \n",
       "51         F  \n",
       "50         F  \n",
       "49         F  \n",
       "48         F  \n",
       "47         F  \n",
       "314        E  \n",
       "46         E  \n",
       "565        E  \n",
       "313        E  "
      ]
     },
     "execution_count": 145,
     "metadata": {},
     "output_type": "execute_result"
    }
   ],
   "source": [
    "creep.sort_values('CEEQ', ascending=False).head(10)"
   ]
  },
  {
   "cell_type": "markdown",
   "metadata": {},
   "source": [
    "### *Let's see how many CEEQ has their values greater than 1mm*"
   ]
  },
  {
   "cell_type": "code",
   "execution_count": 170,
   "metadata": {},
   "outputs": [
    {
     "name": "stdout",
     "output_type": "stream",
     "text": [
      "    Temperature  Load  Time Period(Hour)  Time Period(Year)     CEEQ Category\n",
      "47          500   110           127900.0          14.600457  1.02346        F\n",
      "48          500   110           150562.0          17.187443  1.06300        F\n",
      "49          500   110           182565.0          20.840753  1.11116        F\n",
      "50          500   110           214567.0          24.493950  1.15370        F\n",
      "51          500   110           246570.0          28.147260  1.19196        F\n",
      "52          500   110           262800.0          30.000000  1.21042        F\n"
     ]
    }
   ],
   "source": [
    "severe_creep=creep[(creep.CEEQ)>1]\n",
    "print(severe_creep)"
   ]
  },
  {
   "cell_type": "markdown",
   "metadata": {},
   "source": [
    "### *So there are six values and let's put them into a graph to see the relation with increasing time period*"
   ]
  },
  {
   "cell_type": "code",
   "execution_count": 171,
   "metadata": {},
   "outputs": [
    {
     "data": {
      "image/png": "[encoded data removed]",
      "text/plain": [
       "<Figure size 432x288 with 1 Axes>"
      ]
     },
     "metadata": {
      "needs_background": "light"
     },
     "output_type": "display_data"
    }
   ],
   "source": [
    "import matplotlib.pyplot as plt\n",
    "a=severe_creep['Time Period(Hour)']\n",
    "b=severe_creep['CEEQ']\n",
    "plt.plot(a,b, color='b', linestyle='--', marker='o')\n",
    "plt.xlabel('Time Perioid(Hour)')\n",
    "plt.ylabel('CEEQ(mm)')\n",
    "plt.title('CEEQ greater than 1mm ')\n",
    "plt.grid('True')\n"
   ]
  },
  {
   "cell_type": "markdown",
   "metadata": {},
   "source": [
    "### *We can filter data by multiple criteria. For example, here we see CEEQ values greater than .8mm at 400 degree Celcius*"
   ]
  },
  {
   "cell_type": "code",
   "execution_count": 172,
   "metadata": {},
   "outputs": [
    {
     "data": {
      "text/html": [
       "<div>\n",
       "<style scoped>\n",
       "    .dataframe tbody tr th:only-of-type {\n",
       "        vertical-align: middle;\n",
       "    }\n",
       "\n",
       "    .dataframe tbody tr th {\n",
       "        vertical-align: top;\n",
       "    }\n",
       "\n",
       "    .dataframe thead th {\n",
       "        text-align: right;\n",
       "    }\n",
       "</style>\n",
       "<table border=\"1\" class=\"dataframe\">\n",
       "  <thead>\n",
       "    <tr style=\"text-align: right;\">\n",
       "      <th></th>\n",
       "      <th>Temperature</th>\n",
       "      <th>Load</th>\n",
       "      <th>Time Period(Hour)</th>\n",
       "      <th>Time Period(Year)</th>\n",
       "      <th>CEEQ</th>\n",
       "      <th>Category</th>\n",
       "    </tr>\n",
       "  </thead>\n",
       "  <tbody>\n",
       "    <tr>\n",
       "      <th>309</th>\n",
       "      <td>400</td>\n",
       "      <td>110</td>\n",
       "      <td>121484.0</td>\n",
       "      <td>13.868037</td>\n",
       "      <td>0.830312</td>\n",
       "      <td>E</td>\n",
       "    </tr>\n",
       "    <tr>\n",
       "      <th>310</th>\n",
       "      <td>400</td>\n",
       "      <td>110</td>\n",
       "      <td>147623.0</td>\n",
       "      <td>16.851941</td>\n",
       "      <td>0.869283</td>\n",
       "      <td>E</td>\n",
       "    </tr>\n",
       "    <tr>\n",
       "      <th>311</th>\n",
       "      <td>400</td>\n",
       "      <td>110</td>\n",
       "      <td>173761.0</td>\n",
       "      <td>19.835731</td>\n",
       "      <td>0.903361</td>\n",
       "      <td>E</td>\n",
       "    </tr>\n",
       "    <tr>\n",
       "      <th>312</th>\n",
       "      <td>400</td>\n",
       "      <td>110</td>\n",
       "      <td>199899.0</td>\n",
       "      <td>22.819521</td>\n",
       "      <td>0.933747</td>\n",
       "      <td>E</td>\n",
       "    </tr>\n",
       "    <tr>\n",
       "      <th>313</th>\n",
       "      <td>400</td>\n",
       "      <td>110</td>\n",
       "      <td>239107.0</td>\n",
       "      <td>27.295320</td>\n",
       "      <td>0.973326</td>\n",
       "      <td>E</td>\n",
       "    </tr>\n",
       "    <tr>\n",
       "      <th>314</th>\n",
       "      <td>400</td>\n",
       "      <td>110</td>\n",
       "      <td>262800.0</td>\n",
       "      <td>30.000000</td>\n",
       "      <td>0.995481</td>\n",
       "      <td>E</td>\n",
       "    </tr>\n",
       "  </tbody>\n",
       "</table>\n",
       "</div>"
      ],
      "text/plain": [
       "     Temperature  Load  Time Period(Hour)  Time Period(Year)      CEEQ  \\\n",
       "309          400   110           121484.0          13.868037  0.830312   \n",
       "310          400   110           147623.0          16.851941  0.869283   \n",
       "311          400   110           173761.0          19.835731  0.903361   \n",
       "312          400   110           199899.0          22.819521  0.933747   \n",
       "313          400   110           239107.0          27.295320  0.973326   \n",
       "314          400   110           262800.0          30.000000  0.995481   \n",
       "\n",
       "    Category  \n",
       "309        E  \n",
       "310        E  \n",
       "311        E  \n",
       "312        E  \n",
       "313        E  \n",
       "314        E  "
      ]
     },
     "execution_count": 172,
     "metadata": {},
     "output_type": "execute_result"
    }
   ],
   "source": [
    "creep[(creep.CEEQ>.8)&(creep.Temperature==400)]"
   ]
  },
  {
   "cell_type": "markdown",
   "metadata": {},
   "source": [
    "## Cross Validation: Parameter Tuning"
   ]
  },
  {
   "cell_type": "code",
   "execution_count": 94,
   "metadata": {},
   "outputs": [],
   "source": [
    "feature=creep[['Temperature','Load','Time Period(Hour)']]"
   ]
  },
  {
   "cell_type": "code",
   "execution_count": 150,
   "metadata": {},
   "outputs": [],
   "source": [
    "target=creep['Category'].map({'A':0,'B':1,'C':2, 'D':3,'E':4,'F':5})"
   ]
  },
  {
   "cell_type": "code",
   "execution_count": 151,
   "metadata": {},
   "outputs": [],
   "source": [
    "X=feature\n",
    "y=target"
   ]
  },
  {
   "cell_type": "code",
   "execution_count": 152,
   "metadata": {},
   "outputs": [],
   "source": [
    "from sklearn.model_selection import cross_val_score\n",
    "from sklearn.neighbors import KNeighborsClassifier"
   ]
  },
  {
   "cell_type": "code",
   "execution_count": 153,
   "metadata": {},
   "outputs": [
    {
     "name": "stdout",
     "output_type": "stream",
     "text": [
      "[0.8143923822284712, 0.8063742590840283, 0.7949414677182423, 0.7763450459628735, 0.7706576835394561, 0.7674263628576032, 0.7641996170205049, 0.7560944822149229, 0.7479380038340622, 0.7462851112720787, 0.7430454674536772, 0.7325132360487184, 0.7332935639175708, 0.7228517207940798, 0.7204781670750715, 0.7196575450694324, 0.7261162619067684, 0.7237301097625632, 0.724482741919826, 0.7261691544687519, 0.7270291207366861, 0.7301384328991121, 0.7236726423558253, 0.7277774776053008, 0.7390629402797351, 0.7350109975922432, 0.733404223442399, 0.7390503418545382, 0.7398445175791856, 0.7422183708543004]\n"
     ]
    }
   ],
   "source": [
    "k_range=list(range(1,31))\n",
    "k_scores=[]\n",
    "for k in k_range:\n",
    "    knn=KNeighborsClassifier(n_neighbors=k)\n",
    "    scores=cross_val_score(knn,X,y,cv=10, scoring='accuracy')\n",
    "    k_scores.append(scores.mean())\n",
    "print(k_scores) "
   ]
  },
  {
   "cell_type": "code",
   "execution_count": 154,
   "metadata": {},
   "outputs": [],
   "source": [
    "import matplotlib.pyplot as plt\n",
    "%matplotlib inline"
   ]
  },
  {
   "cell_type": "code",
   "execution_count": 155,
   "metadata": {},
   "outputs": [
    {
     "data": {
      "text/plain": [
       "Text(0, 0.5, 'Cross-validated accuracy')"
      ]
     },
     "execution_count": 155,
     "metadata": {},
     "output_type": "execute_result"
    },
    {
     "data": {
      "image/png": "[encoded data removed]",
      "text/plain": [
       "<Figure size 432x288 with 1 Axes>"
      ]
     },
     "metadata": {
      "needs_background": "light"
     },
     "output_type": "display_data"
    }
   ],
   "source": [
    "plt.plot(k_range,k_scores)\n",
    "plt.xlabel('value of K for KNN')\n",
    "plt.ylabel('Cross-validated accuracy')"
   ]
  },
  {
   "cell_type": "markdown",
   "metadata": {},
   "source": [
    "## Model selection\n"
   ]
  },
  {
   "cell_type": "code",
   "execution_count": 101,
   "metadata": {},
   "outputs": [
    {
     "name": "stdout",
     "output_type": "stream",
     "text": [
      "0.8143923822284712\n"
     ]
    }
   ],
   "source": [
    "knn=KNeighborsClassifier(n_neighbors=1)\n",
    "print(cross_val_score(knn,X,y,cv=10,scoring='accuracy').mean())"
   ]
  },
  {
   "cell_type": "code",
   "execution_count": 102,
   "metadata": {},
   "outputs": [
    {
     "name": "stdout",
     "output_type": "stream",
     "text": [
      "0.7194758698381779\n"
     ]
    }
   ],
   "source": [
    "from sklearn.linear_model import LogisticRegression\n",
    "logreg=LogisticRegression()\n",
    "print(cross_val_score(logreg,X,y,cv=10,scoring='accuracy').mean())"
   ]
  },
  {
   "cell_type": "markdown",
   "metadata": {},
   "source": [
    "## Training a machine learning model with scikit-learn"
   ]
  },
  {
   "cell_type": "code",
   "execution_count": 135,
   "metadata": {},
   "outputs": [
    {
     "name": "stdout",
     "output_type": "stream",
     "text": [
      "KNeighborsClassifier(algorithm='auto', leaf_size=30, metric='minkowski',\n",
      "           metric_params=None, n_jobs=None, n_neighbors=1, p=2,\n",
      "           weights='uniform')\n"
     ]
    },
    {
     "data": {
      "text/plain": [
       "KNeighborsClassifier(algorithm='auto', leaf_size=30, metric='minkowski',\n",
       "           metric_params=None, n_jobs=None, n_neighbors=1, p=2,\n",
       "           weights='uniform')"
      ]
     },
     "execution_count": 135,
     "metadata": {},
     "output_type": "execute_result"
    }
   ],
   "source": [
    "knn=KNeighborsClassifier(n_neighbors=1)\n",
    "print(knn)\n",
    "knn.fit(X,y)"
   ]
  },
  {
   "cell_type": "markdown",
   "metadata": {},
   "source": [
    "### Predicting some creep strain values as output of given Temperature(C), Load(MPa) and Time Period(Hour)"
   ]
  },
  {
   "cell_type": "code",
   "execution_count": 136,
   "metadata": {},
   "outputs": [
    {
     "name": "stdout",
     "output_type": "stream",
     "text": [
      "[5]\n",
      "[4]\n",
      "[3]\n",
      "[1]\n",
      "[1]\n",
      "[0]\n",
      "[0]\n"
     ]
    }
   ],
   "source": [
    "print(knn.predict([[500,110,262800]]))\n",
    "print(knn.predict([[500,100,262800]]))\n",
    "print(knn.predict([[500,90,262800]]))\n",
    "print(knn.predict([[500,80,262800]]))\n",
    "print(knn.predict([[500,70,262800]]))\n",
    "print(knn.predict([[500,60,262800]]))\n",
    "print(knn.predict([[500,50,262800]]))"
   ]
  },
  {
   "cell_type": "markdown",
   "metadata": {},
   "source": [
    "### Comparing the simulated values with the knn predicted values"
   ]
  },
  {
   "cell_type": "code",
   "execution_count": 167,
   "metadata": {},
   "outputs": [
    {
     "name": "stdout",
     "output_type": "stream",
     "text": [
      "                     110 MPa 100 MPa  90 MPa  80 MPa  70 MPa  60 MPa  50 MPa\n",
      "CEEQ(mm)                1.21  0.8843  0.6176  0.3912  0.2023  0.0719  0.0146\n",
      "Category                   F       E       D       B       B       A       A\n",
      "Assinged Values            5       4       3       1       1       0       0\n",
      "Predicted knn values       5       4       3       1       1       0       0\n"
     ]
    }
   ],
   "source": [
    "d = {'110 MPa' : pd.Series([1.21,'F',5,5], index=['CEEQ(mm)','Category','Assinged Values','Predicted knn values']),\n",
    "     '100 MPa' : pd.Series([.8843,'E',4,4],index=['CEEQ(mm)','Category','Assinged Values','Predicted knn values']),\n",
    "     '90 MPa' : pd.Series([.6176,'D',3,3],index=['CEEQ(mm)','Category','Assinged Values','Predicted knn values']),\n",
    "     '80 MPa' : pd.Series([.3912,'B',1,1],index=['CEEQ(mm)','Category','Assinged Values','Predicted knn values']),\n",
    "     '70 MPa' : pd.Series([.2023,'B',1,1],index=['CEEQ(mm)','Category','Assinged Values','Predicted knn values']),\n",
    "     '60 MPa' : pd.Series([.0719,'A',0,0],index=['CEEQ(mm)','Category','Assinged Values','Predicted knn values']),\n",
    "     '50 MPa' : pd.Series([.0146,'A',0,0],index=['CEEQ(mm)','Category','Assinged Values','Predicted knn values'])}\n",
    "df=pd.DataFrame(d)\n",
    "print(df)"
   ]
  }
 ],
 "metadata": {
  "kernelspec": {
   "display_name": "Python 3",
   "language": "python",
   "name": "python3"
  },
  "language_info": {
   "codemirror_mode": {
    "name": "ipython",
    "version": 3
   },
   "file_extension": ".py",
   "mimetype": "text/x-python",
   "name": "python",
   "nbconvert_exporter": "python",
   "pygments_lexer": "ipython3",
   "version": "3.7.3"
  }
 },
 "nbformat": 4,
 "nbformat_minor": 2
}
