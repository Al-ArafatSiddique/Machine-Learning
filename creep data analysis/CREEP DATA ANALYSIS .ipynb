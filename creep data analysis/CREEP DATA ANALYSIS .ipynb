{
 "cells": [
  {
   "cell_type": "markdown",
   "metadata": {},
   "source": [
    "   # Creep Data Analysis "
   ]
  },
  {
   "cell_type": "markdown",
   "metadata": {},
   "source": [
    "## Importing creep data as comma separated value(csv) file"
   ]
  },
  {
   "cell_type": "code",
   "execution_count": 71,
   "metadata": {},
   "outputs": [],
   "source": [
    "import warnings\n",
    "warnings.filterwarnings('ignore')"
   ]
  },
  {
   "cell_type": "code",
   "execution_count": 72,
   "metadata": {},
   "outputs": [],
   "source": [
    "import numpy as np\n",
    "import pandas as pd\n",
    "creep=pd.read_csv('creepdata.csv')"
   ]
  },
  {
   "cell_type": "code",
   "execution_count": 73,
   "metadata": {
    "scrolled": true
   },
   "outputs": [
    {
     "data": {
      "text/html": [
       "<div>\n",
       "<style scoped>\n",
       "    .dataframe tbody tr th:only-of-type {\n",
       "        vertical-align: middle;\n",
       "    }\n",
       "\n",
       "    .dataframe tbody tr th {\n",
       "        vertical-align: top;\n",
       "    }\n",
       "\n",
       "    .dataframe thead th {\n",
       "        text-align: right;\n",
       "    }\n",
       "</style>\n",
       "<table border=\"1\" class=\"dataframe\">\n",
       "  <thead>\n",
       "    <tr style=\"text-align: right;\">\n",
       "      <th></th>\n",
       "      <th>Temperature</th>\n",
       "      <th>Load</th>\n",
       "      <th>Time Period(Hour)</th>\n",
       "      <th>Time Period(Year)</th>\n",
       "      <th>CEEQ</th>\n",
       "      <th>Category</th>\n",
       "    </tr>\n",
       "  </thead>\n",
       "  <tbody>\n",
       "    <tr>\n",
       "      <th>0</th>\n",
       "      <td>500</td>\n",
       "      <td>110</td>\n",
       "      <td>0.00</td>\n",
       "      <td>0.000000</td>\n",
       "      <td>0.000000e+00</td>\n",
       "      <td>A</td>\n",
       "    </tr>\n",
       "    <tr>\n",
       "      <th>1</th>\n",
       "      <td>500</td>\n",
       "      <td>110</td>\n",
       "      <td>0.05</td>\n",
       "      <td>0.000006</td>\n",
       "      <td>0.000000e+00</td>\n",
       "      <td>A</td>\n",
       "    </tr>\n",
       "    <tr>\n",
       "      <th>2</th>\n",
       "      <td>500</td>\n",
       "      <td>110</td>\n",
       "      <td>0.10</td>\n",
       "      <td>0.000011</td>\n",
       "      <td>1.460000e-05</td>\n",
       "      <td>A</td>\n",
       "    </tr>\n",
       "    <tr>\n",
       "      <th>3</th>\n",
       "      <td>500</td>\n",
       "      <td>110</td>\n",
       "      <td>0.15</td>\n",
       "      <td>0.000017</td>\n",
       "      <td>2.922200e-05</td>\n",
       "      <td>A</td>\n",
       "    </tr>\n",
       "    <tr>\n",
       "      <th>4</th>\n",
       "      <td>500</td>\n",
       "      <td>110</td>\n",
       "      <td>0.20</td>\n",
       "      <td>0.000023</td>\n",
       "      <td>4.380000e-05</td>\n",
       "      <td>A</td>\n",
       "    </tr>\n",
       "    <tr>\n",
       "      <th>5</th>\n",
       "      <td>500</td>\n",
       "      <td>110</td>\n",
       "      <td>0.30</td>\n",
       "      <td>0.000034</td>\n",
       "      <td>7.300000e-05</td>\n",
       "      <td>A</td>\n",
       "    </tr>\n",
       "    <tr>\n",
       "      <th>6</th>\n",
       "      <td>500</td>\n",
       "      <td>110</td>\n",
       "      <td>0.50</td>\n",
       "      <td>0.000057</td>\n",
       "      <td>1.314700e-04</td>\n",
       "      <td>A</td>\n",
       "    </tr>\n",
       "    <tr>\n",
       "      <th>7</th>\n",
       "      <td>500</td>\n",
       "      <td>110</td>\n",
       "      <td>0.90</td>\n",
       "      <td>0.000103</td>\n",
       "      <td>2.482770e-04</td>\n",
       "      <td>A</td>\n",
       "    </tr>\n",
       "    <tr>\n",
       "      <th>8</th>\n",
       "      <td>500</td>\n",
       "      <td>110</td>\n",
       "      <td>1.70</td>\n",
       "      <td>0.000194</td>\n",
       "      <td>4.817410e-04</td>\n",
       "      <td>A</td>\n",
       "    </tr>\n",
       "    <tr>\n",
       "      <th>9</th>\n",
       "      <td>500</td>\n",
       "      <td>110</td>\n",
       "      <td>3.30</td>\n",
       "      <td>0.000377</td>\n",
       "      <td>9.480650e-04</td>\n",
       "      <td>A</td>\n",
       "    </tr>\n",
       "    <tr>\n",
       "      <th>10</th>\n",
       "      <td>500</td>\n",
       "      <td>110</td>\n",
       "      <td>6.50</td>\n",
       "      <td>0.000742</td>\n",
       "      <td>1.878310e-03</td>\n",
       "      <td>A</td>\n",
       "    </tr>\n",
       "    <tr>\n",
       "      <th>11</th>\n",
       "      <td>500</td>\n",
       "      <td>110</td>\n",
       "      <td>12.90</td>\n",
       "      <td>0.001473</td>\n",
       "      <td>3.729230e-03</td>\n",
       "      <td>A</td>\n",
       "    </tr>\n",
       "    <tr>\n",
       "      <th>12</th>\n",
       "      <td>500</td>\n",
       "      <td>110</td>\n",
       "      <td>25.70</td>\n",
       "      <td>0.002934</td>\n",
       "      <td>7.322550e-03</td>\n",
       "      <td>A</td>\n",
       "    </tr>\n",
       "    <tr>\n",
       "      <th>13</th>\n",
       "      <td>500</td>\n",
       "      <td>110</td>\n",
       "      <td>51.30</td>\n",
       "      <td>0.005856</td>\n",
       "      <td>1.423770e-02</td>\n",
       "      <td>A</td>\n",
       "    </tr>\n",
       "    <tr>\n",
       "      <th>14</th>\n",
       "      <td>500</td>\n",
       "      <td>110</td>\n",
       "      <td>89.70</td>\n",
       "      <td>0.010240</td>\n",
       "      <td>2.406410e-02</td>\n",
       "      <td>A</td>\n",
       "    </tr>\n",
       "    <tr>\n",
       "      <th>15</th>\n",
       "      <td>500</td>\n",
       "      <td>110</td>\n",
       "      <td>147.30</td>\n",
       "      <td>0.016815</td>\n",
       "      <td>3.773830e-02</td>\n",
       "      <td>A</td>\n",
       "    </tr>\n",
       "    <tr>\n",
       "      <th>16</th>\n",
       "      <td>500</td>\n",
       "      <td>110</td>\n",
       "      <td>233.70</td>\n",
       "      <td>0.026678</td>\n",
       "      <td>5.627380e-02</td>\n",
       "      <td>A</td>\n",
       "    </tr>\n",
       "    <tr>\n",
       "      <th>17</th>\n",
       "      <td>500</td>\n",
       "      <td>110</td>\n",
       "      <td>363.30</td>\n",
       "      <td>0.041473</td>\n",
       "      <td>8.062980e-02</td>\n",
       "      <td>A</td>\n",
       "    </tr>\n",
       "    <tr>\n",
       "      <th>18</th>\n",
       "      <td>500</td>\n",
       "      <td>110</td>\n",
       "      <td>557.70</td>\n",
       "      <td>0.063664</td>\n",
       "      <td>1.115460e-01</td>\n",
       "      <td>A</td>\n",
       "    </tr>\n",
       "    <tr>\n",
       "      <th>19</th>\n",
       "      <td>500</td>\n",
       "      <td>110</td>\n",
       "      <td>849.30</td>\n",
       "      <td>0.096952</td>\n",
       "      <td>1.494010e-01</td>\n",
       "      <td>A</td>\n",
       "    </tr>\n",
       "    <tr>\n",
       "      <th>20</th>\n",
       "      <td>500</td>\n",
       "      <td>110</td>\n",
       "      <td>1140.90</td>\n",
       "      <td>0.130240</td>\n",
       "      <td>1.813200e-01</td>\n",
       "      <td>A</td>\n",
       "    </tr>\n",
       "    <tr>\n",
       "      <th>21</th>\n",
       "      <td>500</td>\n",
       "      <td>110</td>\n",
       "      <td>1432.50</td>\n",
       "      <td>0.163527</td>\n",
       "      <td>2.088780e-01</td>\n",
       "      <td>B</td>\n",
       "    </tr>\n",
       "    <tr>\n",
       "      <th>22</th>\n",
       "      <td>500</td>\n",
       "      <td>110</td>\n",
       "      <td>1724.10</td>\n",
       "      <td>0.196815</td>\n",
       "      <td>2.331050e-01</td>\n",
       "      <td>B</td>\n",
       "    </tr>\n",
       "    <tr>\n",
       "      <th>23</th>\n",
       "      <td>500</td>\n",
       "      <td>110</td>\n",
       "      <td>2161.50</td>\n",
       "      <td>0.246747</td>\n",
       "      <td>2.639680e-01</td>\n",
       "      <td>B</td>\n",
       "    </tr>\n",
       "    <tr>\n",
       "      <th>24</th>\n",
       "      <td>500</td>\n",
       "      <td>110</td>\n",
       "      <td>2778.46</td>\n",
       "      <td>0.317176</td>\n",
       "      <td>2.999710e-01</td>\n",
       "      <td>B</td>\n",
       "    </tr>\n",
       "    <tr>\n",
       "      <th>25</th>\n",
       "      <td>500</td>\n",
       "      <td>110</td>\n",
       "      <td>3395.42</td>\n",
       "      <td>0.387605</td>\n",
       "      <td>3.306070e-01</td>\n",
       "      <td>B</td>\n",
       "    </tr>\n",
       "    <tr>\n",
       "      <th>26</th>\n",
       "      <td>500</td>\n",
       "      <td>110</td>\n",
       "      <td>4012.38</td>\n",
       "      <td>0.458034</td>\n",
       "      <td>3.572330e-01</td>\n",
       "      <td>B</td>\n",
       "    </tr>\n",
       "    <tr>\n",
       "      <th>27</th>\n",
       "      <td>500</td>\n",
       "      <td>110</td>\n",
       "      <td>4629.34</td>\n",
       "      <td>0.528463</td>\n",
       "      <td>3.807590e-01</td>\n",
       "      <td>B</td>\n",
       "    </tr>\n",
       "    <tr>\n",
       "      <th>28</th>\n",
       "      <td>500</td>\n",
       "      <td>110</td>\n",
       "      <td>5554.78</td>\n",
       "      <td>0.634107</td>\n",
       "      <td>4.108870e-01</td>\n",
       "      <td>C</td>\n",
       "    </tr>\n",
       "    <tr>\n",
       "      <th>29</th>\n",
       "      <td>500</td>\n",
       "      <td>110</td>\n",
       "      <td>6942.95</td>\n",
       "      <td>0.792574</td>\n",
       "      <td>4.480900e-01</td>\n",
       "      <td>C</td>\n",
       "    </tr>\n",
       "    <tr>\n",
       "      <th>...</th>\n",
       "      <td>...</td>\n",
       "      <td>...</td>\n",
       "      <td>...</td>\n",
       "      <td>...</td>\n",
       "      <td>...</td>\n",
       "      <td>...</td>\n",
       "    </tr>\n",
       "    <tr>\n",
       "      <th>1210</th>\n",
       "      <td>100</td>\n",
       "      <td>70</td>\n",
       "      <td>164685.00</td>\n",
       "      <td>18.799658</td>\n",
       "      <td>9.205660e-02</td>\n",
       "      <td>A</td>\n",
       "    </tr>\n",
       "    <tr>\n",
       "      <th>1211</th>\n",
       "      <td>100</td>\n",
       "      <td>70</td>\n",
       "      <td>245289.00</td>\n",
       "      <td>28.001027</td>\n",
       "      <td>1.166300e-01</td>\n",
       "      <td>A</td>\n",
       "    </tr>\n",
       "    <tr>\n",
       "      <th>1212</th>\n",
       "      <td>100</td>\n",
       "      <td>70</td>\n",
       "      <td>262800.00</td>\n",
       "      <td>30.000000</td>\n",
       "      <td>1.216990e-01</td>\n",
       "      <td>A</td>\n",
       "    </tr>\n",
       "    <tr>\n",
       "      <th>1213</th>\n",
       "      <td>100</td>\n",
       "      <td>60</td>\n",
       "      <td>0.00</td>\n",
       "      <td>0.000000</td>\n",
       "      <td>0.000000e+00</td>\n",
       "      <td>A</td>\n",
       "    </tr>\n",
       "    <tr>\n",
       "      <th>1214</th>\n",
       "      <td>100</td>\n",
       "      <td>60</td>\n",
       "      <td>0.05</td>\n",
       "      <td>0.000006</td>\n",
       "      <td>0.000000e+00</td>\n",
       "      <td>A</td>\n",
       "    </tr>\n",
       "    <tr>\n",
       "      <th>1215</th>\n",
       "      <td>100</td>\n",
       "      <td>60</td>\n",
       "      <td>0.10</td>\n",
       "      <td>0.000011</td>\n",
       "      <td>2.930000e-14</td>\n",
       "      <td>A</td>\n",
       "    </tr>\n",
       "    <tr>\n",
       "      <th>1216</th>\n",
       "      <td>100</td>\n",
       "      <td>60</td>\n",
       "      <td>0.15</td>\n",
       "      <td>0.000017</td>\n",
       "      <td>5.850000e-14</td>\n",
       "      <td>A</td>\n",
       "    </tr>\n",
       "    <tr>\n",
       "      <th>1217</th>\n",
       "      <td>100</td>\n",
       "      <td>60</td>\n",
       "      <td>0.20</td>\n",
       "      <td>0.000023</td>\n",
       "      <td>8.780000e-14</td>\n",
       "      <td>A</td>\n",
       "    </tr>\n",
       "    <tr>\n",
       "      <th>1218</th>\n",
       "      <td>100</td>\n",
       "      <td>60</td>\n",
       "      <td>0.30</td>\n",
       "      <td>0.000034</td>\n",
       "      <td>1.460000e-13</td>\n",
       "      <td>A</td>\n",
       "    </tr>\n",
       "    <tr>\n",
       "      <th>1219</th>\n",
       "      <td>100</td>\n",
       "      <td>60</td>\n",
       "      <td>0.50</td>\n",
       "      <td>0.000057</td>\n",
       "      <td>2.630000e-13</td>\n",
       "      <td>A</td>\n",
       "    </tr>\n",
       "    <tr>\n",
       "      <th>1220</th>\n",
       "      <td>100</td>\n",
       "      <td>60</td>\n",
       "      <td>0.90</td>\n",
       "      <td>0.000103</td>\n",
       "      <td>4.980000e-13</td>\n",
       "      <td>A</td>\n",
       "    </tr>\n",
       "    <tr>\n",
       "      <th>1221</th>\n",
       "      <td>100</td>\n",
       "      <td>60</td>\n",
       "      <td>1.70</td>\n",
       "      <td>0.000194</td>\n",
       "      <td>9.660000e-13</td>\n",
       "      <td>A</td>\n",
       "    </tr>\n",
       "    <tr>\n",
       "      <th>1222</th>\n",
       "      <td>100</td>\n",
       "      <td>60</td>\n",
       "      <td>3.30</td>\n",
       "      <td>0.000377</td>\n",
       "      <td>1.900000e-12</td>\n",
       "      <td>A</td>\n",
       "    </tr>\n",
       "    <tr>\n",
       "      <th>1223</th>\n",
       "      <td>100</td>\n",
       "      <td>60</td>\n",
       "      <td>6.50</td>\n",
       "      <td>0.000742</td>\n",
       "      <td>3.780000e-12</td>\n",
       "      <td>A</td>\n",
       "    </tr>\n",
       "    <tr>\n",
       "      <th>1224</th>\n",
       "      <td>100</td>\n",
       "      <td>60</td>\n",
       "      <td>12.90</td>\n",
       "      <td>0.001473</td>\n",
       "      <td>7.520000e-12</td>\n",
       "      <td>A</td>\n",
       "    </tr>\n",
       "    <tr>\n",
       "      <th>1225</th>\n",
       "      <td>100</td>\n",
       "      <td>60</td>\n",
       "      <td>25.70</td>\n",
       "      <td>0.002934</td>\n",
       "      <td>1.500000e-11</td>\n",
       "      <td>A</td>\n",
       "    </tr>\n",
       "    <tr>\n",
       "      <th>1226</th>\n",
       "      <td>100</td>\n",
       "      <td>60</td>\n",
       "      <td>51.30</td>\n",
       "      <td>0.005856</td>\n",
       "      <td>3.000000e-11</td>\n",
       "      <td>A</td>\n",
       "    </tr>\n",
       "    <tr>\n",
       "      <th>1227</th>\n",
       "      <td>100</td>\n",
       "      <td>60</td>\n",
       "      <td>102.50</td>\n",
       "      <td>0.011701</td>\n",
       "      <td>6.000000e-11</td>\n",
       "      <td>A</td>\n",
       "    </tr>\n",
       "    <tr>\n",
       "      <th>1228</th>\n",
       "      <td>100</td>\n",
       "      <td>60</td>\n",
       "      <td>204.90</td>\n",
       "      <td>0.023390</td>\n",
       "      <td>1.200000e-10</td>\n",
       "      <td>A</td>\n",
       "    </tr>\n",
       "    <tr>\n",
       "      <th>1229</th>\n",
       "      <td>100</td>\n",
       "      <td>60</td>\n",
       "      <td>409.70</td>\n",
       "      <td>0.046769</td>\n",
       "      <td>2.400000e-10</td>\n",
       "      <td>A</td>\n",
       "    </tr>\n",
       "    <tr>\n",
       "      <th>1230</th>\n",
       "      <td>100</td>\n",
       "      <td>60</td>\n",
       "      <td>819.30</td>\n",
       "      <td>0.093527</td>\n",
       "      <td>4.800000e-10</td>\n",
       "      <td>A</td>\n",
       "    </tr>\n",
       "    <tr>\n",
       "      <th>1231</th>\n",
       "      <td>100</td>\n",
       "      <td>60</td>\n",
       "      <td>1638.50</td>\n",
       "      <td>0.187043</td>\n",
       "      <td>9.590000e-10</td>\n",
       "      <td>A</td>\n",
       "    </tr>\n",
       "    <tr>\n",
       "      <th>1232</th>\n",
       "      <td>100</td>\n",
       "      <td>60</td>\n",
       "      <td>3276.90</td>\n",
       "      <td>0.374075</td>\n",
       "      <td>1.920000e-09</td>\n",
       "      <td>A</td>\n",
       "    </tr>\n",
       "    <tr>\n",
       "      <th>1233</th>\n",
       "      <td>100</td>\n",
       "      <td>60</td>\n",
       "      <td>6553.70</td>\n",
       "      <td>0.748139</td>\n",
       "      <td>3.840000e-09</td>\n",
       "      <td>A</td>\n",
       "    </tr>\n",
       "    <tr>\n",
       "      <th>1234</th>\n",
       "      <td>100</td>\n",
       "      <td>60</td>\n",
       "      <td>13107.30</td>\n",
       "      <td>1.496267</td>\n",
       "      <td>7.670000e-09</td>\n",
       "      <td>A</td>\n",
       "    </tr>\n",
       "    <tr>\n",
       "      <th>1235</th>\n",
       "      <td>100</td>\n",
       "      <td>60</td>\n",
       "      <td>26214.50</td>\n",
       "      <td>2.992523</td>\n",
       "      <td>1.530000e-08</td>\n",
       "      <td>A</td>\n",
       "    </tr>\n",
       "    <tr>\n",
       "      <th>1236</th>\n",
       "      <td>100</td>\n",
       "      <td>60</td>\n",
       "      <td>52428.90</td>\n",
       "      <td>5.985034</td>\n",
       "      <td>3.070000e-08</td>\n",
       "      <td>A</td>\n",
       "    </tr>\n",
       "    <tr>\n",
       "      <th>1237</th>\n",
       "      <td>100</td>\n",
       "      <td>60</td>\n",
       "      <td>104858.00</td>\n",
       "      <td>11.970091</td>\n",
       "      <td>6.140000e-08</td>\n",
       "      <td>A</td>\n",
       "    </tr>\n",
       "    <tr>\n",
       "      <th>1238</th>\n",
       "      <td>100</td>\n",
       "      <td>60</td>\n",
       "      <td>209715.00</td>\n",
       "      <td>23.940068</td>\n",
       "      <td>1.230000e-07</td>\n",
       "      <td>A</td>\n",
       "    </tr>\n",
       "    <tr>\n",
       "      <th>1239</th>\n",
       "      <td>100</td>\n",
       "      <td>60</td>\n",
       "      <td>262800.00</td>\n",
       "      <td>30.000000</td>\n",
       "      <td>1.540000e-07</td>\n",
       "      <td>A</td>\n",
       "    </tr>\n",
       "  </tbody>\n",
       "</table>\n",
       "<p>1240 rows × 6 columns</p>\n",
       "</div>"
      ],
      "text/plain": [
       "      Temperature  Load  Time Period(Hour)  Time Period(Year)          CEEQ  \\\n",
       "0             500   110               0.00           0.000000  0.000000e+00   \n",
       "1             500   110               0.05           0.000006  0.000000e+00   \n",
       "2             500   110               0.10           0.000011  1.460000e-05   \n",
       "3             500   110               0.15           0.000017  2.922200e-05   \n",
       "4             500   110               0.20           0.000023  4.380000e-05   \n",
       "5             500   110               0.30           0.000034  7.300000e-05   \n",
       "6             500   110               0.50           0.000057  1.314700e-04   \n",
       "7             500   110               0.90           0.000103  2.482770e-04   \n",
       "8             500   110               1.70           0.000194  4.817410e-04   \n",
       "9             500   110               3.30           0.000377  9.480650e-04   \n",
       "10            500   110               6.50           0.000742  1.878310e-03   \n",
       "11            500   110              12.90           0.001473  3.729230e-03   \n",
       "12            500   110              25.70           0.002934  7.322550e-03   \n",
       "13            500   110              51.30           0.005856  1.423770e-02   \n",
       "14            500   110              89.70           0.010240  2.406410e-02   \n",
       "15            500   110             147.30           0.016815  3.773830e-02   \n",
       "16            500   110             233.70           0.026678  5.627380e-02   \n",
       "17            500   110             363.30           0.041473  8.062980e-02   \n",
       "18            500   110             557.70           0.063664  1.115460e-01   \n",
       "19            500   110             849.30           0.096952  1.494010e-01   \n",
       "20            500   110            1140.90           0.130240  1.813200e-01   \n",
       "21            500   110            1432.50           0.163527  2.088780e-01   \n",
       "22            500   110            1724.10           0.196815  2.331050e-01   \n",
       "23            500   110            2161.50           0.246747  2.639680e-01   \n",
       "24            500   110            2778.46           0.317176  2.999710e-01   \n",
       "25            500   110            3395.42           0.387605  3.306070e-01   \n",
       "26            500   110            4012.38           0.458034  3.572330e-01   \n",
       "27            500   110            4629.34           0.528463  3.807590e-01   \n",
       "28            500   110            5554.78           0.634107  4.108870e-01   \n",
       "29            500   110            6942.95           0.792574  4.480900e-01   \n",
       "...           ...   ...                ...                ...           ...   \n",
       "1210          100    70          164685.00          18.799658  9.205660e-02   \n",
       "1211          100    70          245289.00          28.001027  1.166300e-01   \n",
       "1212          100    70          262800.00          30.000000  1.216990e-01   \n",
       "1213          100    60               0.00           0.000000  0.000000e+00   \n",
       "1214          100    60               0.05           0.000006  0.000000e+00   \n",
       "1215          100    60               0.10           0.000011  2.930000e-14   \n",
       "1216          100    60               0.15           0.000017  5.850000e-14   \n",
       "1217          100    60               0.20           0.000023  8.780000e-14   \n",
       "1218          100    60               0.30           0.000034  1.460000e-13   \n",
       "1219          100    60               0.50           0.000057  2.630000e-13   \n",
       "1220          100    60               0.90           0.000103  4.980000e-13   \n",
       "1221          100    60               1.70           0.000194  9.660000e-13   \n",
       "1222          100    60               3.30           0.000377  1.900000e-12   \n",
       "1223          100    60               6.50           0.000742  3.780000e-12   \n",
       "1224          100    60              12.90           0.001473  7.520000e-12   \n",
       "1225          100    60              25.70           0.002934  1.500000e-11   \n",
       "1226          100    60              51.30           0.005856  3.000000e-11   \n",
       "1227          100    60             102.50           0.011701  6.000000e-11   \n",
       "1228          100    60             204.90           0.023390  1.200000e-10   \n",
       "1229          100    60             409.70           0.046769  2.400000e-10   \n",
       "1230          100    60             819.30           0.093527  4.800000e-10   \n",
       "1231          100    60            1638.50           0.187043  9.590000e-10   \n",
       "1232          100    60            3276.90           0.374075  1.920000e-09   \n",
       "1233          100    60            6553.70           0.748139  3.840000e-09   \n",
       "1234          100    60           13107.30           1.496267  7.670000e-09   \n",
       "1235          100    60           26214.50           2.992523  1.530000e-08   \n",
       "1236          100    60           52428.90           5.985034  3.070000e-08   \n",
       "1237          100    60          104858.00          11.970091  6.140000e-08   \n",
       "1238          100    60          209715.00          23.940068  1.230000e-07   \n",
       "1239          100    60          262800.00          30.000000  1.540000e-07   \n",
       "\n",
       "     Category  \n",
       "0           A  \n",
       "1           A  \n",
       "2           A  \n",
       "3           A  \n",
       "4           A  \n",
       "5           A  \n",
       "6           A  \n",
       "7           A  \n",
       "8           A  \n",
       "9           A  \n",
       "10          A  \n",
       "11          A  \n",
       "12          A  \n",
       "13          A  \n",
       "14          A  \n",
       "15          A  \n",
       "16          A  \n",
       "17          A  \n",
       "18          A  \n",
       "19          A  \n",
       "20          A  \n",
       "21          B  \n",
       "22          B  \n",
       "23          B  \n",
       "24          B  \n",
       "25          B  \n",
       "26          B  \n",
       "27          B  \n",
       "28          C  \n",
       "29          C  \n",
       "...       ...  \n",
       "1210        A  \n",
       "1211        A  \n",
       "1212        A  \n",
       "1213        A  \n",
       "1214        A  \n",
       "1215        A  \n",
       "1216        A  \n",
       "1217        A  \n",
       "1218        A  \n",
       "1219        A  \n",
       "1220        A  \n",
       "1221        A  \n",
       "1222        A  \n",
       "1223        A  \n",
       "1224        A  \n",
       "1225        A  \n",
       "1226        A  \n",
       "1227        A  \n",
       "1228        A  \n",
       "1229        A  \n",
       "1230        A  \n",
       "1231        A  \n",
       "1232        A  \n",
       "1233        A  \n",
       "1234        A  \n",
       "1235        A  \n",
       "1236        A  \n",
       "1237        A  \n",
       "1238        A  \n",
       "1239        A  \n",
       "\n",
       "[1240 rows x 6 columns]"
      ]
     },
     "execution_count": 73,
     "metadata": {},
     "output_type": "execute_result"
    }
   ],
   "source": [
    "# print the creep data\n",
    "creep"
   ]
  },
  {
   "cell_type": "markdown",
   "metadata": {},
   "source": [
    "# Analysing the Data Set "
   ]
  },
  {
   "cell_type": "markdown",
   "metadata": {},
   "source": [
    "### *The creep data set has 1240 rows and 6 columns*"
   ]
  },
  {
   "cell_type": "code",
   "execution_count": 74,
   "metadata": {},
   "outputs": [
    {
     "data": {
      "text/plain": [
       "(1240, 6)"
      ]
     },
     "execution_count": 74,
     "metadata": {},
     "output_type": "execute_result"
    }
   ],
   "source": [
    "creep.shape"
   ]
  },
  {
   "cell_type": "code",
   "execution_count": 75,
   "metadata": {},
   "outputs": [
    {
     "data": {
      "text/plain": [
       "Index(['Temperature', 'Load', 'Time Period(Hour)', 'Time Period(Year)', 'CEEQ',\n",
       "       'Category'],\n",
       "      dtype='object')"
      ]
     },
     "execution_count": 75,
     "metadata": {},
     "output_type": "execute_result"
    }
   ],
   "source": [
    "creep.columns"
   ]
  },
  {
   "cell_type": "code",
   "execution_count": 76,
   "metadata": {},
   "outputs": [
    {
     "data": {
      "text/plain": [
       "Temperature            int64\n",
       "Load                   int64\n",
       "Time Period(Hour)    float64\n",
       "Time Period(Year)    float64\n",
       "CEEQ                 float64\n",
       "Category              object\n",
       "dtype: object"
      ]
     },
     "execution_count": 76,
     "metadata": {},
     "output_type": "execute_result"
    }
   ],
   "source": [
    "# check the types of data stored under each column\n",
    "creep.dtypes"
   ]
  },
  {
   "cell_type": "markdown",
   "metadata": {},
   "source": [
    "### Simulations were run for 5 different temperatures in degree celsius"
   ]
  },
  {
   "cell_type": "code",
   "execution_count": 77,
   "metadata": {},
   "outputs": [
    {
     "name": "stdout",
     "output_type": "stream",
     "text": [
      "[500 400 300 200 100]\n"
     ]
    }
   ],
   "source": [
    "print(creep.Temperature.unique())"
   ]
  },
  {
   "cell_type": "code",
   "execution_count": 78,
   "metadata": {},
   "outputs": [
    {
     "name": "stdout",
     "output_type": "stream",
     "text": [
      "500    266\n",
      "400    251\n",
      "300    251\n",
      "200    250\n",
      "100    222\n",
      "Name: Temperature, dtype: int64\n"
     ]
    }
   ],
   "source": [
    "print(creep.Temperature.value_counts())"
   ]
  },
  {
   "cell_type": "markdown",
   "metadata": {},
   "source": [
    "### Simulations were run for 7 different load in MPa "
   ]
  },
  {
   "cell_type": "code",
   "execution_count": 79,
   "metadata": {},
   "outputs": [
    {
     "name": "stdout",
     "output_type": "stream",
     "text": [
      "[110 100  90  80  70  60  50]\n"
     ]
    }
   ],
   "source": [
    "print(creep.Load.unique())"
   ]
  },
  {
   "cell_type": "code",
   "execution_count": 80,
   "metadata": {},
   "outputs": [
    {
     "name": "stdout",
     "output_type": "stream",
     "text": [
      "110    249\n",
      "100    222\n",
      "90     198\n",
      "80     172\n",
      "70     152\n",
      "60     139\n",
      "50     108\n",
      "Name: Load, dtype: int64\n"
     ]
    }
   ],
   "source": [
    "print(creep.Load.value_counts())"
   ]
  },
  {
   "cell_type": "markdown",
   "metadata": {},
   "source": [
    "### *There is no missing  values in the data set*"
   ]
  },
  {
   "cell_type": "code",
   "execution_count": 81,
   "metadata": {},
   "outputs": [
    {
     "data": {
      "text/plain": [
       "Temperature          0\n",
       "Load                 0\n",
       "Time Period(Hour)    0\n",
       "Time Period(Year)    0\n",
       "CEEQ                 0\n",
       "Category             0\n",
       "dtype: int64"
      ]
     },
     "execution_count": 81,
     "metadata": {},
     "output_type": "execute_result"
    }
   ],
   "source": [
    "creep.isnull().sum()"
   ]
  },
  {
   "cell_type": "code",
   "execution_count": 82,
   "metadata": {
    "scrolled": false
   },
   "outputs": [
    {
     "data": {
      "text/plain": [
       "count     1240\n",
       "unique       6\n",
       "top          A\n",
       "freq       912\n",
       "Name: Category, dtype: object"
      ]
     },
     "execution_count": 82,
     "metadata": {},
     "output_type": "execute_result"
    }
   ],
   "source": [
    "creep.Category.describe()"
   ]
  },
  {
   "cell_type": "markdown",
   "metadata": {},
   "source": [
    "The highest simulated creep value is 1.21 mm for the node shows the maximum creep value at a temperature of 500 degree Celcius, 110 MPa load when the simulation was run for 262800 hours.   \n",
    "\n",
    "The whole data set is divided into 6 categories according to creep values. "
   ]
  },
  {
   "attachments": {
    "Capture.PNG": {
     "image/png": "[encoded data removed]"
    }
   },
   "cell_type": "markdown",
   "metadata": {},
   "source": [
    "![Capture.PNG](attachment:Capture.PNG)"
   ]
  },
  {
   "cell_type": "code",
   "execution_count": 83,
   "metadata": {},
   "outputs": [
    {
     "data": {
      "text/plain": [
       "A    912\n",
       "B    136\n",
       "C     96\n",
       "D     58\n",
       "E     32\n",
       "F      6\n",
       "Name: Category, dtype: int64"
      ]
     },
     "execution_count": 83,
     "metadata": {},
     "output_type": "execute_result"
    }
   ],
   "source": [
    "# the number of CEEQ value in each category\n",
    "creep.Category.value_counts()"
   ]
  },
  {
   "cell_type": "code",
   "execution_count": 84,
   "metadata": {},
   "outputs": [
    {
     "data": {
      "text/html": [
       "<div>\n",
       "<style scoped>\n",
       "    .dataframe tbody tr th:only-of-type {\n",
       "        vertical-align: middle;\n",
       "    }\n",
       "\n",
       "    .dataframe tbody tr th {\n",
       "        vertical-align: top;\n",
       "    }\n",
       "\n",
       "    .dataframe thead th {\n",
       "        text-align: right;\n",
       "    }\n",
       "</style>\n",
       "<table border=\"1\" class=\"dataframe\">\n",
       "  <thead>\n",
       "    <tr style=\"text-align: right;\">\n",
       "      <th></th>\n",
       "      <th>Temperature</th>\n",
       "      <th>Load</th>\n",
       "      <th>Time Period(Hour)</th>\n",
       "      <th>Time Period(Year)</th>\n",
       "      <th>CEEQ</th>\n",
       "      <th>Category</th>\n",
       "    </tr>\n",
       "  </thead>\n",
       "  <tbody>\n",
       "    <tr>\n",
       "      <th>52</th>\n",
       "      <td>500</td>\n",
       "      <td>110</td>\n",
       "      <td>262800.0</td>\n",
       "      <td>30.000000</td>\n",
       "      <td>1.210420</td>\n",
       "      <td>F</td>\n",
       "    </tr>\n",
       "    <tr>\n",
       "      <th>51</th>\n",
       "      <td>500</td>\n",
       "      <td>110</td>\n",
       "      <td>246570.0</td>\n",
       "      <td>28.147260</td>\n",
       "      <td>1.191960</td>\n",
       "      <td>F</td>\n",
       "    </tr>\n",
       "    <tr>\n",
       "      <th>50</th>\n",
       "      <td>500</td>\n",
       "      <td>110</td>\n",
       "      <td>214567.0</td>\n",
       "      <td>24.493950</td>\n",
       "      <td>1.153700</td>\n",
       "      <td>F</td>\n",
       "    </tr>\n",
       "    <tr>\n",
       "      <th>49</th>\n",
       "      <td>500</td>\n",
       "      <td>110</td>\n",
       "      <td>182565.0</td>\n",
       "      <td>20.840753</td>\n",
       "      <td>1.111160</td>\n",
       "      <td>F</td>\n",
       "    </tr>\n",
       "    <tr>\n",
       "      <th>48</th>\n",
       "      <td>500</td>\n",
       "      <td>110</td>\n",
       "      <td>150562.0</td>\n",
       "      <td>17.187443</td>\n",
       "      <td>1.063000</td>\n",
       "      <td>F</td>\n",
       "    </tr>\n",
       "    <tr>\n",
       "      <th>47</th>\n",
       "      <td>500</td>\n",
       "      <td>110</td>\n",
       "      <td>127900.0</td>\n",
       "      <td>14.600457</td>\n",
       "      <td>1.023460</td>\n",
       "      <td>F</td>\n",
       "    </tr>\n",
       "    <tr>\n",
       "      <th>314</th>\n",
       "      <td>400</td>\n",
       "      <td>110</td>\n",
       "      <td>262800.0</td>\n",
       "      <td>30.000000</td>\n",
       "      <td>0.995481</td>\n",
       "      <td>E</td>\n",
       "    </tr>\n",
       "    <tr>\n",
       "      <th>46</th>\n",
       "      <td>500</td>\n",
       "      <td>110</td>\n",
       "      <td>112793.0</td>\n",
       "      <td>12.875913</td>\n",
       "      <td>0.993444</td>\n",
       "      <td>E</td>\n",
       "    </tr>\n",
       "    <tr>\n",
       "      <th>565</th>\n",
       "      <td>300</td>\n",
       "      <td>110</td>\n",
       "      <td>262800.0</td>\n",
       "      <td>30.000000</td>\n",
       "      <td>0.977253</td>\n",
       "      <td>E</td>\n",
       "    </tr>\n",
       "    <tr>\n",
       "      <th>313</th>\n",
       "      <td>400</td>\n",
       "      <td>110</td>\n",
       "      <td>239107.0</td>\n",
       "      <td>27.295320</td>\n",
       "      <td>0.973326</td>\n",
       "      <td>E</td>\n",
       "    </tr>\n",
       "    <tr>\n",
       "      <th>564</th>\n",
       "      <td>300</td>\n",
       "      <td>110</td>\n",
       "      <td>244231.0</td>\n",
       "      <td>27.880251</td>\n",
       "      <td>0.960213</td>\n",
       "      <td>E</td>\n",
       "    </tr>\n",
       "    <tr>\n",
       "      <th>45</th>\n",
       "      <td>500</td>\n",
       "      <td>110</td>\n",
       "      <td>97685.4</td>\n",
       "      <td>11.151301</td>\n",
       "      <td>0.960164</td>\n",
       "      <td>E</td>\n",
       "    </tr>\n",
       "    <tr>\n",
       "      <th>816</th>\n",
       "      <td>200</td>\n",
       "      <td>110</td>\n",
       "      <td>262800.0</td>\n",
       "      <td>30.000000</td>\n",
       "      <td>0.941316</td>\n",
       "      <td>E</td>\n",
       "    </tr>\n",
       "    <tr>\n",
       "      <th>312</th>\n",
       "      <td>400</td>\n",
       "      <td>110</td>\n",
       "      <td>199899.0</td>\n",
       "      <td>22.819521</td>\n",
       "      <td>0.933747</td>\n",
       "      <td>E</td>\n",
       "    </tr>\n",
       "    <tr>\n",
       "      <th>1066</th>\n",
       "      <td>100</td>\n",
       "      <td>110</td>\n",
       "      <td>262800.0</td>\n",
       "      <td>30.000000</td>\n",
       "      <td>0.925458</td>\n",
       "      <td>E</td>\n",
       "    </tr>\n",
       "    <tr>\n",
       "      <th>815</th>\n",
       "      <td>200</td>\n",
       "      <td>110</td>\n",
       "      <td>244681.0</td>\n",
       "      <td>27.931621</td>\n",
       "      <td>0.925297</td>\n",
       "      <td>E</td>\n",
       "    </tr>\n",
       "    <tr>\n",
       "      <th>44</th>\n",
       "      <td>500</td>\n",
       "      <td>110</td>\n",
       "      <td>82577.9</td>\n",
       "      <td>9.426701</td>\n",
       "      <td>0.922672</td>\n",
       "      <td>E</td>\n",
       "    </tr>\n",
       "    <tr>\n",
       "      <th>563</th>\n",
       "      <td>300</td>\n",
       "      <td>110</td>\n",
       "      <td>205704.0</td>\n",
       "      <td>23.482192</td>\n",
       "      <td>0.922672</td>\n",
       "      <td>E</td>\n",
       "    </tr>\n",
       "    <tr>\n",
       "      <th>1065</th>\n",
       "      <td>100</td>\n",
       "      <td>110</td>\n",
       "      <td>252007.0</td>\n",
       "      <td>28.767922</td>\n",
       "      <td>0.916077</td>\n",
       "      <td>E</td>\n",
       "    </tr>\n",
       "    <tr>\n",
       "      <th>311</th>\n",
       "      <td>400</td>\n",
       "      <td>110</td>\n",
       "      <td>173761.0</td>\n",
       "      <td>19.835731</td>\n",
       "      <td>0.903361</td>\n",
       "      <td>E</td>\n",
       "    </tr>\n",
       "  </tbody>\n",
       "</table>\n",
       "</div>"
      ],
      "text/plain": [
       "      Temperature  Load  Time Period(Hour)  Time Period(Year)      CEEQ  \\\n",
       "52            500   110           262800.0          30.000000  1.210420   \n",
       "51            500   110           246570.0          28.147260  1.191960   \n",
       "50            500   110           214567.0          24.493950  1.153700   \n",
       "49            500   110           182565.0          20.840753  1.111160   \n",
       "48            500   110           150562.0          17.187443  1.063000   \n",
       "47            500   110           127900.0          14.600457  1.023460   \n",
       "314           400   110           262800.0          30.000000  0.995481   \n",
       "46            500   110           112793.0          12.875913  0.993444   \n",
       "565           300   110           262800.0          30.000000  0.977253   \n",
       "313           400   110           239107.0          27.295320  0.973326   \n",
       "564           300   110           244231.0          27.880251  0.960213   \n",
       "45            500   110            97685.4          11.151301  0.960164   \n",
       "816           200   110           262800.0          30.000000  0.941316   \n",
       "312           400   110           199899.0          22.819521  0.933747   \n",
       "1066          100   110           262800.0          30.000000  0.925458   \n",
       "815           200   110           244681.0          27.931621  0.925297   \n",
       "44            500   110            82577.9           9.426701  0.922672   \n",
       "563           300   110           205704.0          23.482192  0.922672   \n",
       "1065          100   110           252007.0          28.767922  0.916077   \n",
       "311           400   110           173761.0          19.835731  0.903361   \n",
       "\n",
       "     Category  \n",
       "52          F  \n",
       "51          F  \n",
       "50          F  \n",
       "49          F  \n",
       "48          F  \n",
       "47          F  \n",
       "314         E  \n",
       "46          E  \n",
       "565         E  \n",
       "313         E  \n",
       "564         E  \n",
       "45          E  \n",
       "816         E  \n",
       "312         E  \n",
       "1066        E  \n",
       "815         E  \n",
       "44          E  \n",
       "563         E  \n",
       "1065        E  \n",
       "311         E  "
      ]
     },
     "execution_count": 84,
     "metadata": {},
     "output_type": "execute_result"
    }
   ],
   "source": [
    "# let's sort the data set according to CEEQ value descending\n",
    "creep.sort_values('CEEQ', ascending=False).head(20)"
   ]
  },
  {
   "cell_type": "markdown",
   "metadata": {},
   "source": [
    "### *Let's see how many CEEQ has their values greater than 1mm*"
   ]
  },
  {
   "cell_type": "code",
   "execution_count": 85,
   "metadata": {},
   "outputs": [
    {
     "name": "stdout",
     "output_type": "stream",
     "text": [
      "    Temperature  Load  Time Period(Hour)  Time Period(Year)     CEEQ Category\n",
      "47          500   110           127900.0          14.600457  1.02346        F\n",
      "48          500   110           150562.0          17.187443  1.06300        F\n",
      "49          500   110           182565.0          20.840753  1.11116        F\n",
      "50          500   110           214567.0          24.493950  1.15370        F\n",
      "51          500   110           246570.0          28.147260  1.19196        F\n",
      "52          500   110           262800.0          30.000000  1.21042        F\n"
     ]
    }
   ],
   "source": [
    "severe_creep=creep[(creep.CEEQ)>1]\n",
    "print(severe_creep)"
   ]
  },
  {
   "cell_type": "markdown",
   "metadata": {},
   "source": [
    "### *So there are six values and let's put them into a graph to see the relation with increasing time period*"
   ]
  },
  {
   "cell_type": "code",
   "execution_count": 86,
   "metadata": {},
   "outputs": [
    {
     "data": {
      "image/png": "[encoded data removed]",
      "text/plain": [
       "<Figure size 576x432 with 1 Axes>"
      ]
     },
     "metadata": {
      "needs_background": "light"
     },
     "output_type": "display_data"
    }
   ],
   "source": [
    "import matplotlib.pyplot as plt\n",
    "a=severe_creep['Time Period(Hour)']\n",
    "b=severe_creep['CEEQ']\n",
    "plt.plot(a,b, color='b', linestyle='--', marker='o')\n",
    "plt.xlabel('Time Perioid(Hour)')\n",
    "plt.ylabel('CEEQ(mm)')\n",
    "plt.title('CEEQ greater than 1mm ')\n",
    "plt.grid('True')\n"
   ]
  },
  {
   "cell_type": "markdown",
   "metadata": {},
   "source": [
    "### *We can filter data by multiple criteria. For example, here we see CEEQ values greater than .8mm at 400 degree Celcius*"
   ]
  },
  {
   "cell_type": "code",
   "execution_count": 87,
   "metadata": {},
   "outputs": [
    {
     "data": {
      "text/html": [
       "<div>\n",
       "<style scoped>\n",
       "    .dataframe tbody tr th:only-of-type {\n",
       "        vertical-align: middle;\n",
       "    }\n",
       "\n",
       "    .dataframe tbody tr th {\n",
       "        vertical-align: top;\n",
       "    }\n",
       "\n",
       "    .dataframe thead th {\n",
       "        text-align: right;\n",
       "    }\n",
       "</style>\n",
       "<table border=\"1\" class=\"dataframe\">\n",
       "  <thead>\n",
       "    <tr style=\"text-align: right;\">\n",
       "      <th></th>\n",
       "      <th>Temperature</th>\n",
       "      <th>Load</th>\n",
       "      <th>Time Period(Hour)</th>\n",
       "      <th>Time Period(Year)</th>\n",
       "      <th>CEEQ</th>\n",
       "      <th>Category</th>\n",
       "    </tr>\n",
       "  </thead>\n",
       "  <tbody>\n",
       "    <tr>\n",
       "      <th>309</th>\n",
       "      <td>400</td>\n",
       "      <td>110</td>\n",
       "      <td>121484.0</td>\n",
       "      <td>13.868037</td>\n",
       "      <td>0.830312</td>\n",
       "      <td>E</td>\n",
       "    </tr>\n",
       "    <tr>\n",
       "      <th>310</th>\n",
       "      <td>400</td>\n",
       "      <td>110</td>\n",
       "      <td>147623.0</td>\n",
       "      <td>16.851941</td>\n",
       "      <td>0.869283</td>\n",
       "      <td>E</td>\n",
       "    </tr>\n",
       "    <tr>\n",
       "      <th>311</th>\n",
       "      <td>400</td>\n",
       "      <td>110</td>\n",
       "      <td>173761.0</td>\n",
       "      <td>19.835731</td>\n",
       "      <td>0.903361</td>\n",
       "      <td>E</td>\n",
       "    </tr>\n",
       "    <tr>\n",
       "      <th>312</th>\n",
       "      <td>400</td>\n",
       "      <td>110</td>\n",
       "      <td>199899.0</td>\n",
       "      <td>22.819521</td>\n",
       "      <td>0.933747</td>\n",
       "      <td>E</td>\n",
       "    </tr>\n",
       "    <tr>\n",
       "      <th>313</th>\n",
       "      <td>400</td>\n",
       "      <td>110</td>\n",
       "      <td>239107.0</td>\n",
       "      <td>27.295320</td>\n",
       "      <td>0.973326</td>\n",
       "      <td>E</td>\n",
       "    </tr>\n",
       "    <tr>\n",
       "      <th>314</th>\n",
       "      <td>400</td>\n",
       "      <td>110</td>\n",
       "      <td>262800.0</td>\n",
       "      <td>30.000000</td>\n",
       "      <td>0.995481</td>\n",
       "      <td>E</td>\n",
       "    </tr>\n",
       "  </tbody>\n",
       "</table>\n",
       "</div>"
      ],
      "text/plain": [
       "     Temperature  Load  Time Period(Hour)  Time Period(Year)      CEEQ  \\\n",
       "309          400   110           121484.0          13.868037  0.830312   \n",
       "310          400   110           147623.0          16.851941  0.869283   \n",
       "311          400   110           173761.0          19.835731  0.903361   \n",
       "312          400   110           199899.0          22.819521  0.933747   \n",
       "313          400   110           239107.0          27.295320  0.973326   \n",
       "314          400   110           262800.0          30.000000  0.995481   \n",
       "\n",
       "    Category  \n",
       "309        E  \n",
       "310        E  \n",
       "311        E  \n",
       "312        E  \n",
       "313        E  \n",
       "314        E  "
      ]
     },
     "execution_count": 87,
     "metadata": {},
     "output_type": "execute_result"
    }
   ],
   "source": [
    "creep[(creep.CEEQ>.8)&(creep.Temperature==400)]"
   ]
  },
  {
   "cell_type": "markdown",
   "metadata": {},
   "source": [
    "# Effects of load and temperature on creep strain  "
   ]
  },
  {
   "cell_type": "code",
   "execution_count": 88,
   "metadata": {},
   "outputs": [
    {
     "data": {
      "text/html": [
       "<div>\n",
       "<style scoped>\n",
       "    .dataframe tbody tr th:only-of-type {\n",
       "        vertical-align: middle;\n",
       "    }\n",
       "\n",
       "    .dataframe tbody tr th {\n",
       "        vertical-align: top;\n",
       "    }\n",
       "\n",
       "    .dataframe thead th {\n",
       "        text-align: right;\n",
       "    }\n",
       "</style>\n",
       "<table border=\"1\" class=\"dataframe\">\n",
       "  <thead>\n",
       "    <tr style=\"text-align: right;\">\n",
       "      <th></th>\n",
       "      <th>110 MPa</th>\n",
       "      <th>100 MPa</th>\n",
       "      <th>90 MPa</th>\n",
       "      <th>80 MPa</th>\n",
       "      <th>70 MPa</th>\n",
       "      <th>60 MPa</th>\n",
       "      <th>50 MPa</th>\n",
       "    </tr>\n",
       "  </thead>\n",
       "  <tbody>\n",
       "    <tr>\n",
       "      <th>100</th>\n",
       "      <td>0.9255</td>\n",
       "      <td>0.6657</td>\n",
       "      <td>0.4516</td>\n",
       "      <td>0.2682</td>\n",
       "      <td>0.1217</td>\n",
       "      <td>0.0054</td>\n",
       "      <td>1.500000e-07</td>\n",
       "    </tr>\n",
       "    <tr>\n",
       "      <th>200</th>\n",
       "      <td>0.9413</td>\n",
       "      <td>0.6750</td>\n",
       "      <td>0.4582</td>\n",
       "      <td>0.2710</td>\n",
       "      <td>0.1222</td>\n",
       "      <td>0.0349</td>\n",
       "      <td>5.300000e-03</td>\n",
       "    </tr>\n",
       "    <tr>\n",
       "      <th>300</th>\n",
       "      <td>0.9770</td>\n",
       "      <td>0.7019</td>\n",
       "      <td>0.4735</td>\n",
       "      <td>0.2785</td>\n",
       "      <td>0.1241</td>\n",
       "      <td>0.0350</td>\n",
       "      <td>5.700000e-03</td>\n",
       "    </tr>\n",
       "    <tr>\n",
       "      <th>400</th>\n",
       "      <td>0.9955</td>\n",
       "      <td>0.7146</td>\n",
       "      <td>0.4811</td>\n",
       "      <td>0.2869</td>\n",
       "      <td>0.1247</td>\n",
       "      <td>0.0348</td>\n",
       "      <td>5.200000e-03</td>\n",
       "    </tr>\n",
       "    <tr>\n",
       "      <th>500</th>\n",
       "      <td>1.2100</td>\n",
       "      <td>0.8843</td>\n",
       "      <td>0.6176</td>\n",
       "      <td>0.3912</td>\n",
       "      <td>0.2023</td>\n",
       "      <td>0.0719</td>\n",
       "      <td>1.460000e-02</td>\n",
       "    </tr>\n",
       "  </tbody>\n",
       "</table>\n",
       "</div>"
      ],
      "text/plain": [
       "     110 MPa  100 MPa  90 MPa  80 MPa  70 MPa  60 MPa        50 MPa\n",
       "100   0.9255   0.6657  0.4516  0.2682  0.1217  0.0054  1.500000e-07\n",
       "200   0.9413   0.6750  0.4582  0.2710  0.1222  0.0349  5.300000e-03\n",
       "300   0.9770   0.7019  0.4735  0.2785  0.1241  0.0350  5.700000e-03\n",
       "400   0.9955   0.7146  0.4811  0.2869  0.1247  0.0348  5.200000e-03\n",
       "500   1.2100   0.8843  0.6176  0.3912  0.2023  0.0719  1.460000e-02"
      ]
     },
     "execution_count": 88,
     "metadata": {},
     "output_type": "execute_result"
    }
   ],
   "source": [
    "d = {'110 MPa' : pd.Series([0.9255,0.9413,0.977,0.9955,1.21], index=['100','200','300','400','500']),\n",
    "     '100 MPa' : pd.Series([0.6657,0.675,0.7019,0.7146,0.8843],index=['100','200','300','400','500']),\n",
    "     '90 MPa' : pd.Series([0.4516,0.4582,0.4735,0.4811,0.6176],index=['100','200','300','400','500']),\n",
    "     '80 MPa' : pd.Series([0.2682,0.271,0.2785,0.2869,0.3912],index=['100','200','300','400','500']),\n",
    "     '70 MPa' : pd.Series([0.1217,0.1222,0.1241,0.1247,0.2023],index=['100','200','300','400','500']),\n",
    "     '60 MPa' : pd.Series([0.0054,0.0349,0.035,0.0348,0.0719],index=['100','200','300','400','500']),\n",
    "     '50 MPa' : pd.Series([1.50E-07,0.0053,0.0057,0.0052,0.0146],index=['100','200','300','400','500'])}\n",
    "df=pd.DataFrame(d)\n",
    "df"
   ]
  },
  {
   "cell_type": "code",
   "execution_count": 89,
   "metadata": {},
   "outputs": [
    {
     "data": {
      "image/png": "[encoded data removed]",
      "text/plain": [
       "<Figure size 576x432 with 1 Axes>"
      ]
     },
     "metadata": {
      "needs_background": "light"
     },
     "output_type": "display_data"
    }
   ],
   "source": [
    "Temperature=[100,200,300,400,500]\n",
    "b=df['110 MPa']\n",
    "c=df['100 MPa']\n",
    "d=df['90 MPa']\n",
    "e=df['80 MPa']\n",
    "f=df['70 MPa']\n",
    "g=df['60 MPa']\n",
    "h=df['50 MPa']\n",
    "plt.plot(Temperature,b, color='b', linestyle='--', marker='o',label='110 MPa')\n",
    "plt.plot(Temperature,c, color='g', linestyle='--', marker='o')\n",
    "plt.plot(Temperature,d, color='r', linestyle='--', marker='o')\n",
    "plt.plot(Temperature,e, color='c', linestyle='--', marker='o')\n",
    "plt.plot(Temperature,f, color='m', linestyle='--', marker='o')\n",
    "plt.plot(Temperature,g, color='y', linestyle='--', marker='o')\n",
    "plt.plot(Temperature,h, color='k', linestyle='--', marker='o')\n",
    "plt.grid('True')\n",
    "plt.xlabel('Temperature(C)')\n",
    "plt.ylabel('CEEQ(mm)')\n",
    "plt.title('Effects of load and temperature on creep strain(CEEQ) ')\n",
    "plt.legend(loc='upper left')\n",
    "plt.rcParams['figure.figsize']=(8,6)"
   ]
  },
  {
   "cell_type": "markdown",
   "metadata": {},
   "source": [
    "# Cross Validation: Parameter Tuning"
   ]
  },
  {
   "cell_type": "markdown",
   "metadata": {},
   "source": [
    "## Loading the data"
   ]
  },
  {
   "cell_type": "code",
   "execution_count": 90,
   "metadata": {},
   "outputs": [
    {
     "data": {
      "text/html": [
       "<div>\n",
       "<style scoped>\n",
       "    .dataframe tbody tr th:only-of-type {\n",
       "        vertical-align: middle;\n",
       "    }\n",
       "\n",
       "    .dataframe tbody tr th {\n",
       "        vertical-align: top;\n",
       "    }\n",
       "\n",
       "    .dataframe thead th {\n",
       "        text-align: right;\n",
       "    }\n",
       "</style>\n",
       "<table border=\"1\" class=\"dataframe\">\n",
       "  <thead>\n",
       "    <tr style=\"text-align: right;\">\n",
       "      <th></th>\n",
       "      <th>Temperature</th>\n",
       "      <th>Load</th>\n",
       "      <th>Time Period(Hour)</th>\n",
       "    </tr>\n",
       "  </thead>\n",
       "  <tbody>\n",
       "    <tr>\n",
       "      <th>0</th>\n",
       "      <td>500</td>\n",
       "      <td>110</td>\n",
       "      <td>0.00</td>\n",
       "    </tr>\n",
       "    <tr>\n",
       "      <th>1</th>\n",
       "      <td>500</td>\n",
       "      <td>110</td>\n",
       "      <td>0.05</td>\n",
       "    </tr>\n",
       "    <tr>\n",
       "      <th>2</th>\n",
       "      <td>500</td>\n",
       "      <td>110</td>\n",
       "      <td>0.10</td>\n",
       "    </tr>\n",
       "    <tr>\n",
       "      <th>3</th>\n",
       "      <td>500</td>\n",
       "      <td>110</td>\n",
       "      <td>0.15</td>\n",
       "    </tr>\n",
       "    <tr>\n",
       "      <th>4</th>\n",
       "      <td>500</td>\n",
       "      <td>110</td>\n",
       "      <td>0.20</td>\n",
       "    </tr>\n",
       "  </tbody>\n",
       "</table>\n",
       "</div>"
      ],
      "text/plain": [
       "   Temperature  Load  Time Period(Hour)\n",
       "0          500   110               0.00\n",
       "1          500   110               0.05\n",
       "2          500   110               0.10\n",
       "3          500   110               0.15\n",
       "4          500   110               0.20"
      ]
     },
     "execution_count": 90,
     "metadata": {},
     "output_type": "execute_result"
    }
   ],
   "source": [
    "feature=creep[['Temperature','Load','Time Period(Hour)']]\n",
    "feature.head()"
   ]
  },
  {
   "cell_type": "code",
   "execution_count": 91,
   "metadata": {},
   "outputs": [
    {
     "data": {
      "text/plain": [
       "0    0\n",
       "1    0\n",
       "2    0\n",
       "3    0\n",
       "4    0\n",
       "Name: Category, dtype: int64"
      ]
     },
     "execution_count": 91,
     "metadata": {},
     "output_type": "execute_result"
    }
   ],
   "source": [
    "target=creep['Category'].map({'A':0,'B':1,'C':2, 'D':3,'E':4,'F':5})\n",
    "target.head()"
   ]
  },
  {
   "cell_type": "code",
   "execution_count": 92,
   "metadata": {},
   "outputs": [],
   "source": [
    "# store feature matrix in \"X\"\n",
    "X=feature\n",
    "# store response vector in \"y\"\n",
    "y=target"
   ]
  },
  {
   "cell_type": "code",
   "execution_count": 93,
   "metadata": {},
   "outputs": [
    {
     "data": {
      "text/plain": [
       "Temperature            int64\n",
       "Load                   int64\n",
       "Time Period(Hour)    float64\n",
       "dtype: object"
      ]
     },
     "execution_count": 93,
     "metadata": {},
     "output_type": "execute_result"
    }
   ],
   "source": [
    "feature.dtypes"
   ]
  },
  {
   "cell_type": "code",
   "execution_count": 94,
   "metadata": {},
   "outputs": [
    {
     "data": {
      "text/plain": [
       "dtype('int64')"
      ]
     },
     "execution_count": 94,
     "metadata": {},
     "output_type": "execute_result"
    }
   ],
   "source": [
    "target.dtypes"
   ]
  },
  {
   "cell_type": "markdown",
   "metadata": {},
   "source": [
    "###  Select the best tuning parameters (aka \"hyperparameters\") for KNN on the creep dataset"
   ]
  },
  {
   "cell_type": "code",
   "execution_count": 95,
   "metadata": {},
   "outputs": [],
   "source": [
    "from sklearn.model_selection import cross_val_score\n",
    "from sklearn.neighbors import KNeighborsClassifier"
   ]
  },
  {
   "cell_type": "code",
   "execution_count": 96,
   "metadata": {},
   "outputs": [
    {
     "name": "stdout",
     "output_type": "stream",
     "text": [
      "[0.8143923822284712, 0.8063742590840283, 0.7949414677182423, 0.7763450459628735, 0.7706576835394561, 0.7674263628576032, 0.7641996170205049, 0.7560944822149229, 0.7479380038340622, 0.7462851112720787, 0.7430454674536772, 0.7325132360487184, 0.7332935639175708, 0.7228517207940798, 0.7204781670750715, 0.7196575450694324, 0.7261162619067684, 0.7237301097625632, 0.724482741919826, 0.7261691544687519, 0.7270291207366861, 0.7301384328991121, 0.7236726423558253, 0.7277774776053008, 0.7390629402797351, 0.7350109975922432, 0.733404223442399, 0.7390503418545382, 0.7398445175791856, 0.7422183708543004]\n"
     ]
    }
   ],
   "source": [
    "k_range=list(range(1,31))\n",
    "k_scores=[]\n",
    "for k in k_range:\n",
    "    knn=KNeighborsClassifier(n_neighbors=k)\n",
    "    scores=cross_val_score(knn,X,y,cv=10, scoring='accuracy')\n",
    "    k_scores.append(scores.mean())\n",
    "print(k_scores) "
   ]
  },
  {
   "cell_type": "code",
   "execution_count": 97,
   "metadata": {},
   "outputs": [],
   "source": [
    "import matplotlib.pyplot as plt\n",
    "%matplotlib inline"
   ]
  },
  {
   "cell_type": "code",
   "execution_count": 98,
   "metadata": {},
   "outputs": [
    {
     "data": {
      "text/plain": [
       "Text(0, 0.5, 'Cross-validated accuracy')"
      ]
     },
     "execution_count": 98,
     "metadata": {},
     "output_type": "execute_result"
    },
    {
     "data": {
      "image/png": "[encoded data removed]",
      "text/plain": [
       "<Figure size 432x288 with 1 Axes>"
      ]
     },
     "metadata": {
      "needs_background": "light"
     },
     "output_type": "display_data"
    }
   ],
   "source": [
    "plt.plot(k_range,k_scores)\n",
    "plt.xlabel('value of K for KNN')\n",
    "plt.ylabel('Cross-validated accuracy')"
   ]
  },
  {
   "cell_type": "markdown",
   "metadata": {},
   "source": [
    "# Model selection\n"
   ]
  },
  {
   "cell_type": "markdown",
   "metadata": {},
   "source": [
    "###  Compare the best KNN model with logistic regression on the iris dataset"
   ]
  },
  {
   "cell_type": "code",
   "execution_count": 99,
   "metadata": {},
   "outputs": [
    {
     "name": "stdout",
     "output_type": "stream",
     "text": [
      "0.8143923822284712\n"
     ]
    }
   ],
   "source": [
    "# 10-fold cross-validation with the best KNN model\n",
    "knn=KNeighborsClassifier(n_neighbors=1)\n",
    "print(cross_val_score(knn,X,y,cv=10,scoring='accuracy').mean())"
   ]
  },
  {
   "cell_type": "code",
   "execution_count": 100,
   "metadata": {},
   "outputs": [
    {
     "name": "stdout",
     "output_type": "stream",
     "text": [
      "0.7194758698381779\n"
     ]
    }
   ],
   "source": [
    "# 10-fold cross-validation with logistic regression\n",
    "from sklearn.linear_model import LogisticRegression\n",
    "logreg=LogisticRegression()\n",
    "print(cross_val_score(logreg,X,y,cv=10,scoring='accuracy').mean())"
   ]
  },
  {
   "cell_type": "markdown",
   "metadata": {},
   "source": [
    "# Training a machine learning model with scikit-learn"
   ]
  },
  {
   "cell_type": "markdown",
   "metadata": {},
   "source": [
    "## K-nearest neighbors (KNN) classification"
   ]
  },
  {
   "cell_type": "code",
   "execution_count": 101,
   "metadata": {},
   "outputs": [
    {
     "name": "stdout",
     "output_type": "stream",
     "text": [
      "KNeighborsClassifier(algorithm='auto', leaf_size=30, metric='minkowski',\n",
      "           metric_params=None, n_jobs=None, n_neighbors=1, p=2,\n",
      "           weights='uniform')\n"
     ]
    },
    {
     "data": {
      "text/plain": [
       "KNeighborsClassifier(algorithm='auto', leaf_size=30, metric='minkowski',\n",
       "           metric_params=None, n_jobs=None, n_neighbors=1, p=2,\n",
       "           weights='uniform')"
      ]
     },
     "execution_count": 101,
     "metadata": {},
     "output_type": "execute_result"
    }
   ],
   "source": [
    "knn=KNeighborsClassifier(n_neighbors=1)\n",
    "print(knn)\n",
    "knn.fit(X,y)"
   ]
  },
  {
   "cell_type": "markdown",
   "metadata": {},
   "source": [
    "## Predicting some creep strain values as output of given Temperature(C), Load(MPa) and Time Period(Hour) Comparing the simulated values with the knn predicted values\n"
   ]
  },
  {
   "cell_type": "markdown",
   "metadata": {},
   "source": [
    "### For temperature 500 degree Celsius and 262800 Hour time period we get 5 values predicted at 5 different Loads  and then compare it with known simulated values to see whether our model gives us correct prediction or not "
   ]
  },
  {
   "cell_type": "code",
   "execution_count": 102,
   "metadata": {},
   "outputs": [
    {
     "name": "stdout",
     "output_type": "stream",
     "text": [
      "[5]\n",
      "[4]\n",
      "[3]\n",
      "[1]\n",
      "[1]\n",
      "[0]\n",
      "[0]\n"
     ]
    },
    {
     "data": {
      "text/html": [
       "<div>\n",
       "<style scoped>\n",
       "    .dataframe tbody tr th:only-of-type {\n",
       "        vertical-align: middle;\n",
       "    }\n",
       "\n",
       "    .dataframe tbody tr th {\n",
       "        vertical-align: top;\n",
       "    }\n",
       "\n",
       "    .dataframe thead th {\n",
       "        text-align: right;\n",
       "    }\n",
       "</style>\n",
       "<table border=\"1\" class=\"dataframe\">\n",
       "  <thead>\n",
       "    <tr style=\"text-align: right;\">\n",
       "      <th></th>\n",
       "      <th>110 MPa</th>\n",
       "      <th>100 MPa</th>\n",
       "      <th>90 MPa</th>\n",
       "      <th>80 MPa</th>\n",
       "      <th>70 MPa</th>\n",
       "      <th>60 MPa</th>\n",
       "      <th>50 MPa</th>\n",
       "    </tr>\n",
       "  </thead>\n",
       "  <tbody>\n",
       "    <tr>\n",
       "      <th>Simulated CEEQ(mm)</th>\n",
       "      <td>1.21</td>\n",
       "      <td>0.8843</td>\n",
       "      <td>0.6176</td>\n",
       "      <td>0.3912</td>\n",
       "      <td>0.2023</td>\n",
       "      <td>0.0719</td>\n",
       "      <td>0.0146</td>\n",
       "    </tr>\n",
       "    <tr>\n",
       "      <th>Category</th>\n",
       "      <td>F</td>\n",
       "      <td>E</td>\n",
       "      <td>D</td>\n",
       "      <td>B</td>\n",
       "      <td>B</td>\n",
       "      <td>A</td>\n",
       "      <td>A</td>\n",
       "    </tr>\n",
       "    <tr>\n",
       "      <th>Assinged Values</th>\n",
       "      <td>5</td>\n",
       "      <td>4</td>\n",
       "      <td>3</td>\n",
       "      <td>1</td>\n",
       "      <td>1</td>\n",
       "      <td>0</td>\n",
       "      <td>0</td>\n",
       "    </tr>\n",
       "    <tr>\n",
       "      <th>Predicted knn values</th>\n",
       "      <td>5</td>\n",
       "      <td>4</td>\n",
       "      <td>3</td>\n",
       "      <td>1</td>\n",
       "      <td>1</td>\n",
       "      <td>0</td>\n",
       "      <td>0</td>\n",
       "    </tr>\n",
       "  </tbody>\n",
       "</table>\n",
       "</div>"
      ],
      "text/plain": [
       "                     110 MPa 100 MPa  90 MPa  80 MPa  70 MPa  60 MPa  50 MPa\n",
       "Simulated CEEQ(mm)      1.21  0.8843  0.6176  0.3912  0.2023  0.0719  0.0146\n",
       "Category                   F       E       D       B       B       A       A\n",
       "Assinged Values            5       4       3       1       1       0       0\n",
       "Predicted knn values       5       4       3       1       1       0       0"
      ]
     },
     "execution_count": 102,
     "metadata": {},
     "output_type": "execute_result"
    }
   ],
   "source": [
    "print(knn.predict([[500,110,262800]]))\n",
    "print(knn.predict([[500,100,262800]]))\n",
    "print(knn.predict([[500,90,262800]]))\n",
    "print(knn.predict([[500,80,262800]]))\n",
    "print(knn.predict([[500,70,262800]]))\n",
    "print(knn.predict([[500,60,262800]]))\n",
    "print(knn.predict([[500,50,262800]]))\n",
    "d = {'110 MPa' : pd.Series([1.21,'F',5,5], index=['Simulated CEEQ(mm)','Category','Assinged Values','Predicted knn values']),\n",
    "     '100 MPa' : pd.Series([.8843,'E',4,4],index=['Simulated CEEQ(mm)','Category','Assinged Values','Predicted knn values']),\n",
    "     '90 MPa' : pd.Series([.6176,'D',3,3],index=['Simulated CEEQ(mm)','Category','Assinged Values','Predicted knn values']),\n",
    "     '80 MPa' : pd.Series([.3912,'B',1,1],index=['Simulated CEEQ(mm)','Category','Assinged Values','Predicted knn values']),\n",
    "     '70 MPa' : pd.Series([.2023,'B',1,1],index=['Simulated CEEQ(mm)','Category','Assinged Values','Predicted knn values']),\n",
    "     '60 MPa' : pd.Series([.0719,'A',0,0],index=['Simulated CEEQ(mm)','Category','Assinged Values','Predicted knn values']),\n",
    "     '50 MPa' : pd.Series([.0146,'A',0,0],index=['Simulated CEEQ(mm)','Category','Assinged Values','Predicted knn values'])}\n",
    "df=pd.DataFrame(d)\n",
    "df"
   ]
  },
  {
   "cell_type": "markdown",
   "metadata": {},
   "source": [
    "### For temperature 400 degree Celsius and 262800 Hour time period we get 5 values predicted at 5 different Loads  and then compare it with known simulated values to see whether our model gives us correct prediction or not "
   ]
  },
  {
   "cell_type": "code",
   "execution_count": 103,
   "metadata": {},
   "outputs": [
    {
     "name": "stdout",
     "output_type": "stream",
     "text": [
      "[4]\n",
      "[3]\n",
      "[2]\n",
      "[1]\n",
      "[0]\n",
      "[0]\n",
      "[0]\n"
     ]
    },
    {
     "data": {
      "text/html": [
       "<div>\n",
       "<style scoped>\n",
       "    .dataframe tbody tr th:only-of-type {\n",
       "        vertical-align: middle;\n",
       "    }\n",
       "\n",
       "    .dataframe tbody tr th {\n",
       "        vertical-align: top;\n",
       "    }\n",
       "\n",
       "    .dataframe thead th {\n",
       "        text-align: right;\n",
       "    }\n",
       "</style>\n",
       "<table border=\"1\" class=\"dataframe\">\n",
       "  <thead>\n",
       "    <tr style=\"text-align: right;\">\n",
       "      <th></th>\n",
       "      <th>110 MPa</th>\n",
       "      <th>100 MPa</th>\n",
       "      <th>90 MPa</th>\n",
       "      <th>80 MPa</th>\n",
       "      <th>70 MPa</th>\n",
       "      <th>60 MPa</th>\n",
       "      <th>50 MPa</th>\n",
       "    </tr>\n",
       "  </thead>\n",
       "  <tbody>\n",
       "    <tr>\n",
       "      <th>Simulated CEEQ(mm)</th>\n",
       "      <td>0.994581</td>\n",
       "      <td>0.71458</td>\n",
       "      <td>0.481047</td>\n",
       "      <td>0.286982</td>\n",
       "      <td>0.124644</td>\n",
       "      <td>0.0348307</td>\n",
       "      <td>0.00522387</td>\n",
       "    </tr>\n",
       "    <tr>\n",
       "      <th>Category</th>\n",
       "      <td>E</td>\n",
       "      <td>D</td>\n",
       "      <td>C</td>\n",
       "      <td>B</td>\n",
       "      <td>A</td>\n",
       "      <td>A</td>\n",
       "      <td>A</td>\n",
       "    </tr>\n",
       "    <tr>\n",
       "      <th>Assinged Values</th>\n",
       "      <td>4</td>\n",
       "      <td>3</td>\n",
       "      <td>2</td>\n",
       "      <td>1</td>\n",
       "      <td>0</td>\n",
       "      <td>0</td>\n",
       "      <td>0</td>\n",
       "    </tr>\n",
       "    <tr>\n",
       "      <th>Predicted knn values</th>\n",
       "      <td>4</td>\n",
       "      <td>3</td>\n",
       "      <td>2</td>\n",
       "      <td>1</td>\n",
       "      <td>0</td>\n",
       "      <td>0</td>\n",
       "      <td>0</td>\n",
       "    </tr>\n",
       "  </tbody>\n",
       "</table>\n",
       "</div>"
      ],
      "text/plain": [
       "                       110 MPa  100 MPa    90 MPa    80 MPa    70 MPa  \\\n",
       "Simulated CEEQ(mm)    0.994581  0.71458  0.481047  0.286982  0.124644   \n",
       "Category                     E        D         C         B         A   \n",
       "Assinged Values              4        3         2         1         0   \n",
       "Predicted knn values         4        3         2         1         0   \n",
       "\n",
       "                         60 MPa      50 MPa  \n",
       "Simulated CEEQ(mm)    0.0348307  0.00522387  \n",
       "Category                      A           A  \n",
       "Assinged Values               0           0  \n",
       "Predicted knn values          0           0  "
      ]
     },
     "execution_count": 103,
     "metadata": {},
     "output_type": "execute_result"
    }
   ],
   "source": [
    "print(knn.predict([[400,110,262800]]))\n",
    "print(knn.predict([[400,100,262800]]))\n",
    "print(knn.predict([[400,90,262800]]))\n",
    "print(knn.predict([[400,80,262800]]))\n",
    "print(knn.predict([[400,70,262800]]))\n",
    "print(knn.predict([[400,60,262800]]))\n",
    "print(knn.predict([[400,50,262800]]))\n",
    "d = {'110 MPa' : pd.Series([.994581,'E',4,4], index=['Simulated CEEQ(mm)','Category','Assinged Values','Predicted knn values']),\n",
    "     '100 MPa' : pd.Series([0.71458,'D',3,3],index=['Simulated CEEQ(mm)','Category','Assinged Values','Predicted knn values']),\n",
    "     '90 MPa' : pd.Series([0.481047,'C',2,2],index=['Simulated CEEQ(mm)','Category','Assinged Values','Predicted knn values']),\n",
    "     '80 MPa' : pd.Series([0.286982,'B',1,1],index=['Simulated CEEQ(mm)','Category','Assinged Values','Predicted knn values']),\n",
    "     '70 MPa' : pd.Series([0.124644,'A',0,0],index=['Simulated CEEQ(mm)','Category','Assinged Values','Predicted knn values']),\n",
    "     '60 MPa' : pd.Series([0.0348307,'A',0,0],index=['Simulated CEEQ(mm)','Category','Assinged Values','Predicted knn values']),\n",
    "     '50 MPa' : pd.Series([0.00522387,'A',0,0],index=['Simulated CEEQ(mm)','Category','Assinged Values','Predicted knn values'])}\n",
    "df=pd.DataFrame(d)\n",
    "df"
   ]
  }
 ],
 "metadata": {
  "kernelspec": {
   "display_name": "Python 3",
   "language": "python",
   "name": "python3"
  },
  "language_info": {
   "codemirror_mode": {
    "name": "ipython",
    "version": 3
   },
   "file_extension": ".py",
   "mimetype": "text/x-python",
   "name": "python",
   "nbconvert_exporter": "python",
   "pygments_lexer": "ipython3",
   "version": "3.7.3"
  }
 },
 "nbformat": 4,
 "nbformat_minor": 2
}
